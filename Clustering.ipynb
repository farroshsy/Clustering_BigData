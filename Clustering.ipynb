{
  "nbformat": 4,
  "nbformat_minor": 0,
  "metadata": {
    "colab": {
      "provenance": [],
      "authorship_tag": "ABX9TyMGZXYbEshVN4d+4QOMTnLZ",
      "include_colab_link": true
    },
    "kernelspec": {
      "name": "python3",
      "display_name": "Python 3"
    },
    "language_info": {
      "name": "python"
    }
  },
  "cells": [
    {
      "cell_type": "markdown",
      "metadata": {
        "id": "view-in-github",
        "colab_type": "text"
      },
      "source": [
        "<a href=\"https://colab.research.google.com/github/farroshsy/Clustering_BigData/blob/main/Clustering.ipynb\" target=\"_parent\"><img src=\"https://colab.research.google.com/assets/colab-badge.svg\" alt=\"Open In Colab\"/></a>"
      ]
    },
    {
      "cell_type": "markdown",
      "source": [
        "# **Big Data Assignment for Clustering**\n",
        "## Building A End to End Clustering with PySpark\n",
        "---\n",
        "Name: Farros Hilmi Syafei \n",
        "<br>\n",
        "Student ID: 5025201012\n",
        "<br>\n",
        "Class: Big Data A\n",
        "<br>\n",
        "Lecturer: Abdul Munif, S.Kom., M.Sc.\n"
      ],
      "metadata": {
        "id": "L-Hb0G0kGZga"
      }
    },
    {
      "cell_type": "markdown",
      "source": [
        "## Source:\n",
        "1. https://runawayhorse001.github.io/LearningApacheSpark/clustering.html\n",
        "2. Part I: https://medium.com/@josephgeorgelewis2000/end-to-end-pyspark-clustering-part-i-using-colab-for-pyspark-and-collecting-data-6b94b58baeab\n",
        "3. Part II: https://medium.com/@josephgeorgelewis2000/end-to-end-pyspark-clustering-part-ii-preprocessing-and-model-building-in-colab-1c2d0d8f2a23"
      ],
      "metadata": {
        "id": "VTdM3GfXGb5g"
      }
    },
    {
      "cell_type": "markdown",
      "source": [
        "## Source 1 - LearningApacheSpark Clustering by runawayhorse001"
      ],
      "metadata": {
        "id": "8Rh2tGU1Gwfv"
      }
    },
    {
      "cell_type": "markdown",
      "source": [
        "### Setting Up PySpark Environment"
      ],
      "metadata": {
        "id": "MRhY3tLDHC-l"
      }
    },
    {
      "cell_type": "code",
      "execution_count": 53,
      "metadata": {
        "colab": {
          "base_uri": "https://localhost:8080/"
        },
        "id": "yHns7bJRGEjp",
        "outputId": "3b47a5c9-431f-413e-b94b-ebc61f72a7be"
      },
      "outputs": [
        {
          "output_type": "stream",
          "name": "stdout",
          "text": [
            "Looking in indexes: https://pypi.org/simple, https://us-python.pkg.dev/colab-wheels/public/simple/\n",
            "Requirement already satisfied: pyspark in /usr/local/lib/python3.10/dist-packages (3.4.0)\n",
            "Requirement already satisfied: py4j==0.10.9.7 in /usr/local/lib/python3.10/dist-packages (from pyspark) (0.10.9.7)\n"
          ]
        }
      ],
      "source": [
        "!pip install pyspark"
      ]
    },
    {
      "cell_type": "code",
      "source": [
        "from pyspark.sql import SparkSession\n",
        "\n",
        "spark = SparkSession \\\n",
        "    .builder \\\n",
        "    .appName(\"Python Spark K-means example\") \\\n",
        "    .config(\"spark.some.config.option\", \"some-value\") \\\n",
        "    .getOrCreate()"
      ],
      "metadata": {
        "id": "_ANPnI8AHNJW"
      },
      "execution_count": 54,
      "outputs": []
    },
    {
      "cell_type": "markdown",
      "source": [
        "### Load the data"
      ],
      "metadata": {
        "id": "adf4ddPwHTHY"
      }
    },
    {
      "cell_type": "code",
      "source": [
        "df = spark.read.format('csv') \\\n",
        "               .options(header='true', inferschema='true') \\\n",
        "               .load(\"./Iris.csv\", header=True)"
      ],
      "metadata": {
        "id": "gJaNyglWHiXa"
      },
      "execution_count": 55,
      "outputs": []
    },
    {
      "cell_type": "markdown",
      "source": [
        "### Data exploration\n"
      ],
      "metadata": {
        "id": "cJeEBVGfIQYe"
      }
    },
    {
      "cell_type": "code",
      "source": [
        "df.show(5,True)\n",
        "df.printSchema()"
      ],
      "metadata": {
        "colab": {
          "base_uri": "https://localhost:8080/"
        },
        "id": "swAlHd7iIRhY",
        "outputId": "df621345-6cf5-4958-ae4a-c627b9d058cb"
      },
      "execution_count": 56,
      "outputs": [
        {
          "output_type": "stream",
          "name": "stdout",
          "text": [
            "+---+-------------+------------+-------------+------------+-----------+\n",
            "| Id|SepalLengthCm|SepalWidthCm|PetalLengthCm|PetalWidthCm|    Species|\n",
            "+---+-------------+------------+-------------+------------+-----------+\n",
            "|  1|          5.1|         3.5|          1.4|         0.2|Iris-setosa|\n",
            "|  2|          4.9|         3.0|          1.4|         0.2|Iris-setosa|\n",
            "|  3|          4.7|         3.2|          1.3|         0.2|Iris-setosa|\n",
            "|  4|          4.6|         3.1|          1.5|         0.2|Iris-setosa|\n",
            "|  5|          5.0|         3.6|          1.4|         0.2|Iris-setosa|\n",
            "+---+-------------+------------+-------------+------------+-----------+\n",
            "only showing top 5 rows\n",
            "\n",
            "root\n",
            " |-- Id: integer (nullable = true)\n",
            " |-- SepalLengthCm: double (nullable = true)\n",
            " |-- SepalWidthCm: double (nullable = true)\n",
            " |-- PetalLengthCm: double (nullable = true)\n",
            " |-- PetalWidthCm: double (nullable = true)\n",
            " |-- Species: string (nullable = true)\n",
            "\n"
          ]
        }
      ]
    },
    {
      "cell_type": "code",
      "source": [
        "df.describe().show()"
      ],
      "metadata": {
        "colab": {
          "base_uri": "https://localhost:8080/"
        },
        "id": "UNQZ9cmcIXVy",
        "outputId": "e9204e80-f7e6-4f1f-ed3a-4525eb22eecd"
      },
      "execution_count": 57,
      "outputs": [
        {
          "output_type": "stream",
          "name": "stdout",
          "text": [
            "+-------+------------------+------------------+-------------------+------------------+------------------+--------------+\n",
            "|summary|                Id|     SepalLengthCm|       SepalWidthCm|     PetalLengthCm|      PetalWidthCm|       Species|\n",
            "+-------+------------------+------------------+-------------------+------------------+------------------+--------------+\n",
            "|  count|               150|               150|                150|               150|               150|           150|\n",
            "|   mean|              75.5| 5.843333333333335| 3.0540000000000007|3.7586666666666693|1.1986666666666672|          null|\n",
            "| stddev|43.445367992456916|0.8280661279778637|0.43359431136217375| 1.764420419952262|0.7631607417008414|          null|\n",
            "|    min|                 1|               4.3|                2.0|               1.0|               0.1|   Iris-setosa|\n",
            "|    max|               150|               7.9|                4.4|               6.9|               2.5|Iris-virginica|\n",
            "+-------+------------------+------------------+-------------------+------------------+------------------+--------------+\n",
            "\n"
          ]
        }
      ]
    },
    {
      "cell_type": "markdown",
      "source": [
        "### Convert Data"
      ],
      "metadata": {
        "id": "lgelxN0HIqMj"
      }
    },
    {
      "cell_type": "code",
      "source": [
        "# convert the data to dense vector\n",
        "from pyspark.ml.linalg import Vectors\n",
        "\n",
        "def transData(data):\n",
        "    return data.rdd.map(lambda r: [Vectors.dense(r[:-1])]).toDF(['features'])"
      ],
      "metadata": {
        "id": "JUIzwxb2IbEU"
      },
      "execution_count": 58,
      "outputs": []
    },
    {
      "cell_type": "markdown",
      "source": [
        "You are strongly encouraged to try my get_dummy function for dealing with the categorical data in complex dataset."
      ],
      "metadata": {
        "id": "J0W7kzt7IhC4"
      }
    },
    {
      "cell_type": "markdown",
      "source": [
        "Supervised learning version:"
      ],
      "metadata": {
        "id": "CBiM3Ok4IjjT"
      }
    },
    {
      "cell_type": "code",
      "source": [
        "def get_dummy(df,indexCol,categoricalCols,continuousCols,labelCol):\n",
        "\n",
        "    from pyspark.ml import Pipeline\n",
        "    from pyspark.ml.feature import StringIndexer, OneHotEncoder, VectorAssembler\n",
        "    from pyspark.sql.functions import col\n",
        "\n",
        "    indexers = [ StringIndexer(inputCol=c, outputCol=\"{0}_indexed\".format(c))\n",
        "                 for c in categoricalCols ]\n",
        "\n",
        "    # default setting: dropLast=True\n",
        "    encoders = [ OneHotEncoder(inputCol=indexer.getOutputCol(),\n",
        "                 outputCol=\"{0}_encoded\".format(indexer.getOutputCol()))\n",
        "                 for indexer in indexers ]\n",
        "\n",
        "    assembler = VectorAssembler(inputCols=[encoder.getOutputCol() for encoder in encoders]\n",
        "                                + continuousCols, outputCol=\"features\")\n",
        "\n",
        "    pipeline = Pipeline(stages=indexers + encoders + [assembler])\n",
        "\n",
        "    model=pipeline.fit(df)\n",
        "    data = model.transform(df)\n",
        "\n",
        "    data = data.withColumn('label',col(labelCol))\n",
        "\n",
        "    return data.select(indexCol,'features','label')"
      ],
      "metadata": {
        "id": "CMcGJGoeInYW"
      },
      "execution_count": 59,
      "outputs": []
    },
    {
      "cell_type": "markdown",
      "source": [
        "Unsupervised learning version:\n"
      ],
      "metadata": {
        "id": "A_14E6DmIt5A"
      }
    },
    {
      "cell_type": "code",
      "source": [
        "def get_dummy(df,indexCol,categoricalCols,continuousCols):\n",
        "    '''\n",
        "    Get dummy variables and concat with continuous variables for unsupervised learning.\n",
        "    :param df: the dataframe\n",
        "    :param categoricalCols: the name list of the categorical data\n",
        "    :param continuousCols:  the name list of the numerical data\n",
        "    :return k: feature matrix\n",
        "\n",
        "    :author: Wenqiang Feng\n",
        "    :email:  von198@gmail.com\n",
        "    '''\n",
        "\n",
        "    indexers = [ StringIndexer(inputCol=c, outputCol=\"{0}_indexed\".format(c))\n",
        "                 for c in categoricalCols ]\n",
        "\n",
        "    # default setting: dropLast=True\n",
        "    encoders = [ OneHotEncoder(inputCol=indexer.getOutputCol(),\n",
        "                 outputCol=\"{0}_encoded\".format(indexer.getOutputCol()))\n",
        "                 for indexer in indexers ]\n",
        "\n",
        "    assembler = VectorAssembler(inputCols=[encoder.getOutputCol() for encoder in encoders]\n",
        "                                + continuousCols, outputCol=\"features\")\n",
        "\n",
        "    pipeline = Pipeline(stages=indexers + encoders + [assembler])\n",
        "\n",
        "    model=pipeline.fit(df)\n",
        "    data = model.transform(df)\n",
        "\n",
        "    return data.select(indexCol,'features')"
      ],
      "metadata": {
        "id": "vKT3f72rIwY5"
      },
      "execution_count": 60,
      "outputs": []
    },
    {
      "cell_type": "markdown",
      "source": [
        "Two in One:"
      ],
      "metadata": {
        "id": "7del3nFkI0DB"
      }
    },
    {
      "cell_type": "code",
      "source": [
        "def get_dummy(df,indexCol,categoricalCols,continuousCols,labelCol,dropLast=False):\n",
        "\n",
        "    '''\n",
        "    Get dummy variables and concat with continuous variables for ml modeling.\n",
        "    :param df: the dataframe\n",
        "    :param categoricalCols: the name list of the categorical data\n",
        "    :param continuousCols:  the name list of the numerical data\n",
        "    :param labelCol:  the name of label column\n",
        "    :param dropLast:  the flag of drop last column\n",
        "    :return: feature matrix\n",
        "\n",
        "    :author: Wenqiang Feng\n",
        "    :email:  von198@gmail.com\n",
        "\n",
        "    >>> df = spark.createDataFrame([\n",
        "                  (0, \"a\"),\n",
        "                  (1, \"b\"),\n",
        "                  (2, \"c\"),\n",
        "                  (3, \"a\"),\n",
        "                  (4, \"a\"),\n",
        "                  (5, \"c\")\n",
        "              ], [\"id\", \"category\"])\n",
        "\n",
        "    >>> indexCol = 'id'\n",
        "    >>> categoricalCols = ['category']\n",
        "    >>> continuousCols = []\n",
        "    >>> labelCol = []\n",
        "\n",
        "    >>> mat = get_dummy(df,indexCol,categoricalCols,continuousCols,labelCol)\n",
        "    >>> mat.show()\n",
        "\n",
        "    >>>\n",
        "        +---+-------------+\n",
        "        | id|     features|\n",
        "        +---+-------------+\n",
        "        |  0|[1.0,0.0,0.0]|\n",
        "        |  1|[0.0,0.0,1.0]|\n",
        "        |  2|[0.0,1.0,0.0]|\n",
        "        |  3|[1.0,0.0,0.0]|\n",
        "        |  4|[1.0,0.0,0.0]|\n",
        "        |  5|[0.0,1.0,0.0]|\n",
        "        +---+-------------+\n",
        "    '''\n",
        "\n",
        "    from pyspark.ml import Pipeline\n",
        "    from pyspark.ml.feature import StringIndexer, OneHotEncoder, VectorAssembler\n",
        "    from pyspark.sql.functions import col\n",
        "\n",
        "    indexers = [ StringIndexer(inputCol=c, outputCol=\"{0}_indexed\".format(c))\n",
        "                 for c in categoricalCols ]\n",
        "\n",
        "    # default setting: dropLast=True\n",
        "    encoders = [ OneHotEncoder(inputCol=indexer.getOutputCol(),\n",
        "                 outputCol=\"{0}_encoded\".format(indexer.getOutputCol()),dropLast=dropLast)\n",
        "                 for indexer in indexers ]\n",
        "\n",
        "    assembler = VectorAssembler(inputCols=[encoder.getOutputCol() for encoder in encoders]\n",
        "                                + continuousCols, outputCol=\"features\")\n",
        "\n",
        "    pipeline = Pipeline(stages=indexers + encoders + [assembler])\n",
        "\n",
        "    model=pipeline.fit(df)\n",
        "    data = model.transform(df)\n",
        "\n",
        "    if indexCol and labelCol:\n",
        "        # for supervised learning\n",
        "        data = data.withColumn('label',col(labelCol))\n",
        "        return data.select(indexCol,'features','label')\n",
        "    elif not indexCol and labelCol:\n",
        "        # for supervised learning\n",
        "        data = data.withColumn('label',col(labelCol))\n",
        "        return data.select('features','label')\n",
        "    elif indexCol and not labelCol:\n",
        "        # for unsupervised learning\n",
        "        return data.select(indexCol,'features')\n",
        "    elif not indexCol and not labelCol:\n",
        "        # for unsupervised learning\n",
        "        return data.select('features')"
      ],
      "metadata": {
        "id": "9XpmIdXtI1Nw"
      },
      "execution_count": 61,
      "outputs": []
    },
    {
      "cell_type": "markdown",
      "source": [
        "### Transform Data to Dataframe"
      ],
      "metadata": {
        "id": "3o-bVkqHI459"
      }
    },
    {
      "cell_type": "code",
      "source": [
        "transformed= transData(df)\n",
        "transformed.show(5, False)"
      ],
      "metadata": {
        "colab": {
          "base_uri": "https://localhost:8080/"
        },
        "id": "ZyMVkbvDI7LB",
        "outputId": "0070438b-50dc-4cbe-bf8b-184a143b4b41"
      },
      "execution_count": 62,
      "outputs": [
        {
          "output_type": "stream",
          "name": "stdout",
          "text": [
            "+---------------------+\n",
            "|features             |\n",
            "+---------------------+\n",
            "|[1.0,5.1,3.5,1.4,0.2]|\n",
            "|[2.0,4.9,3.0,1.4,0.2]|\n",
            "|[3.0,4.7,3.2,1.3,0.2]|\n",
            "|[4.0,4.6,3.1,1.5,0.2]|\n",
            "|[5.0,5.0,3.6,1.4,0.2]|\n",
            "+---------------------+\n",
            "only showing top 5 rows\n",
            "\n"
          ]
        }
      ]
    },
    {
      "cell_type": "markdown",
      "source": [
        "### Categorical Value"
      ],
      "metadata": {
        "id": "8aw7yp4EJC1n"
      }
    },
    {
      "cell_type": "code",
      "source": [
        "from pyspark.ml import Pipeline\n",
        "from pyspark.ml.regression import LinearRegression\n",
        "from pyspark.ml.feature import VectorIndexer\n",
        "from pyspark.ml.evaluation import RegressionEvaluator\n",
        "\n",
        "# Automatically identify categorical features, and index them.\n",
        "# We specify maxCategories so features with > 4 distinct values are treated as continuous.\n",
        "\n",
        "featureIndexer = VectorIndexer(inputCol=\"features\", \\\n",
        "                               outputCol=\"indexedFeatures\",\\\n",
        "                               maxCategories=4).fit(transformed)\n",
        "\n",
        "data = featureIndexer.transform(transformed)"
      ],
      "metadata": {
        "id": "ezeo4QsrI9Uy"
      },
      "execution_count": 63,
      "outputs": []
    },
    {
      "cell_type": "markdown",
      "source": [
        "### Determine the optimal number of clusters for k-means clustering using Elbow Method"
      ],
      "metadata": {
        "id": "uLzBAg5HKOgG"
      }
    },
    {
      "cell_type": "code",
      "source": [
        "import numpy as np\n",
        "from pyspark.ml.clustering import KMeans\n",
        "\n",
        "cost = np.zeros(20)\n",
        "for k in range(2,20):\n",
        "    kmeans = KMeans()\\\n",
        "            .setK(k)\\\n",
        "            .setSeed(1) \\\n",
        "            .setFeaturesCol(\"indexedFeatures\")\\\n",
        "            .setPredictionCol(\"cluster\")\n",
        "\n",
        "    model = kmeans.fit(data)\n",
        "    cost[k] = model.summary.trainingCost\n"
      ],
      "metadata": {
        "id": "LM0m5239KT_q"
      },
      "execution_count": 64,
      "outputs": []
    },
    {
      "cell_type": "code",
      "source": [
        "import numpy as np\n",
        "import matplotlib.mlab as mlab\n",
        "import matplotlib.pyplot as plt\n",
        "import seaborn as sbs\n",
        "from matplotlib.ticker import MaxNLocator\n",
        "\n",
        "fig, ax = plt.subplots(1,1, figsize =(8,6))\n",
        "ax.plot(range(2,20),cost[2:20])\n",
        "ax.set_xlabel('k')\n",
        "ax.set_ylabel('cost')\n",
        "ax.xaxis.set_major_locator(MaxNLocator(integer=True))\n",
        "plt.show()"
      ],
      "metadata": {
        "colab": {
          "base_uri": "https://localhost:8080/",
          "height": 542
        },
        "id": "aJmJXf87KmiY",
        "outputId": "6cac357e-10a0-4b4f-b869-76e11a18336a"
      },
      "execution_count": 65,
      "outputs": [
        {
          "output_type": "display_data",
          "data": {
            "text/plain": [
              "<Figure size 800x600 with 1 Axes>"
            ],
            "image/png": "[encoded data removed]"
          },
          "metadata": {}
        }
      ]
    },
    {
      "cell_type": "markdown",
      "source": [
        "### Silhouette Analysis"
      ],
      "metadata": {
        "id": "9KY5DZ_oLCZ-"
      }
    },
    {
      "cell_type": "code",
      "source": [
        "#@title\n",
        "#PySpark libraries\n",
        "import time\n",
        "import pandas as pd\n",
        "from pyspark.ml import Pipeline\n",
        "from pyspark.ml.feature import StringIndexer, OneHotEncoder, VectorAssembler\n",
        "from pyspark.sql.functions import col, percent_rank, lit\n",
        "from pyspark.sql.window import Window\n",
        "from pyspark.sql import DataFrame, Row\n",
        "from pyspark.sql.types import StructType\n",
        "from functools import reduce  # For Python 3.x\n",
        "\n",
        "from pyspark.ml.clustering import KMeans\n",
        "from pyspark.ml.evaluation import ClusteringEvaluator\n",
        "\n",
        "def optimal_k(df_in,index_col,k_min, k_max,num_runs):\n",
        "    '''\n",
        "    Determine optimal number of clusters by using Silhoutte Score Analysis.\n",
        "    :param df_in: the input dataframe\n",
        "    :param index_col: the name of the index column\n",
        "    :param k_min: the minmum number of the clusters\n",
        "    :param k_max: the maxmum number of the clusters\n",
        "    :param num_runs: the number of runs for each fixed clusters\n",
        "\n",
        "    :return k: optimal number of the clusters\n",
        "    :return silh_lst: Silhouette score\n",
        "    :return r_table: the running results table\n",
        "\n",
        "    :author: Wenqiang Feng\n",
        "    :email:  von198@gmail.com\n",
        "    '''\n",
        "\n",
        "    start = time.time()\n",
        "    silh_lst = []\n",
        "    k_lst = np.arange(k_min, k_max+1)\n",
        "\n",
        "    r_table = df_in.select(index_col).toPandas()\n",
        "    r_table = r_table.set_index(index_col)\n",
        "    centers = pd.DataFrame()\n",
        "\n",
        "    for k in k_lst:\n",
        "        silh_val = []\n",
        "        for run in np.arange(1, num_runs+1):\n",
        "\n",
        "            # Trains a k-means model.\n",
        "            kmeans = KMeans()\\\n",
        "                    .setK(k)\\\n",
        "                    .setSeed(int(np.random.randint(100, size=1)))\n",
        "            model = kmeans.fit(df_in)\n",
        "\n",
        "            # Make predictions\n",
        "            predictions = model.transform(df_in)\n",
        "            r_table['cluster_{k}_{run}'.format(k=k, run=run)]= predictions.select('prediction').toPandas()\n",
        "\n",
        "            # Evaluate clustering by computing Silhouette score\n",
        "            evaluator = ClusteringEvaluator()\n",
        "            silhouette = evaluator.evaluate(predictions)\n",
        "            silh_val.append(silhouette)\n",
        "\n",
        "        silh_array=np.asanyarray(silh_val)\n",
        "        silh_lst.append(silh_array.mean())\n",
        "\n",
        "    elapsed =  time.time() - start\n",
        "\n",
        "    silhouette = pd.DataFrame(list(zip(k_lst,silh_lst)),columns = ['k', 'silhouette'])\n",
        "\n",
        "    print('+------------------------------------------------------------+')\n",
        "    print(\"|         The finding optimal k phase took %8.0f s.       |\" %(elapsed))\n",
        "    print('+------------------------------------------------------------+')\n",
        "\n",
        "\n",
        "    return k_lst[np.argmax(silh_lst, axis=0)], silhouette , r_table\n",
        "\n",
        "    k, silh_lst, r_table = optimal_k(scaledData,index_col,k_min, k_max,num_runs)\n",
        "    spark.createDataFrame(silh_lst).show()"
      ],
      "metadata": {
        "id": "iUdcPI1RLFVe"
      },
      "execution_count": 66,
      "outputs": []
    },
    {
      "cell_type": "markdown",
      "source": [
        "### Pipeline Architecture"
      ],
      "metadata": {
        "id": "FEPn9015L_xV"
      }
    },
    {
      "cell_type": "code",
      "source": [
        "from pyspark.ml.clustering import KMeans, KMeansModel\n",
        "\n",
        "kmeans = KMeans() \\\n",
        "          .setK(3) \\\n",
        "          .setFeaturesCol(\"indexedFeatures\")\\\n",
        "          .setPredictionCol(\"cluster\")\n",
        "\n",
        "# Chain indexer and tree in a Pipeline\n",
        "pipeline = Pipeline(stages=[featureIndexer, kmeans])\n",
        "\n",
        "model = pipeline.fit(transformed)\n",
        "\n",
        "cluster = model.transform(transformed)"
      ],
      "metadata": {
        "id": "v-W42KkxNIZh"
      },
      "execution_count": 67,
      "outputs": []
    },
    {
      "cell_type": "markdown",
      "source": [
        "### K-Means Cluster"
      ],
      "metadata": {
        "id": "XPcyXwEENLbS"
      }
    },
    {
      "cell_type": "code",
      "source": [
        "cluster = model.transform(transformed)\n",
        "cluster.show()"
      ],
      "metadata": {
        "colab": {
          "base_uri": "https://localhost:8080/"
        },
        "id": "d819MGxpNPTe",
        "outputId": "1570754d-f8a1-4e00-eb15-06ef0811855f"
      },
      "execution_count": 71,
      "outputs": [
        {
          "output_type": "stream",
          "name": "stdout",
          "text": [
            "+--------------------+--------------------+-------+\n",
            "|            features|     indexedFeatures|cluster|\n",
            "+--------------------+--------------------+-------+\n",
            "|[1.0,5.1,3.5,1.4,...|[1.0,5.1,3.5,1.4,...|      0|\n",
            "|[2.0,4.9,3.0,1.4,...|[2.0,4.9,3.0,1.4,...|      0|\n",
            "|[3.0,4.7,3.2,1.3,...|[3.0,4.7,3.2,1.3,...|      0|\n",
            "|[4.0,4.6,3.1,1.5,...|[4.0,4.6,3.1,1.5,...|      0|\n",
            "|[5.0,5.0,3.6,1.4,...|[5.0,5.0,3.6,1.4,...|      0|\n",
            "|[6.0,5.4,3.9,1.7,...|[6.0,5.4,3.9,1.7,...|      0|\n",
            "|[7.0,4.6,3.4,1.4,...|[7.0,4.6,3.4,1.4,...|      0|\n",
            "|[8.0,5.0,3.4,1.5,...|[8.0,5.0,3.4,1.5,...|      0|\n",
            "|[9.0,4.4,2.9,1.4,...|[9.0,4.4,2.9,1.4,...|      0|\n",
            "|[10.0,4.9,3.1,1.5...|[10.0,4.9,3.1,1.5...|      0|\n",
            "|[11.0,5.4,3.7,1.5...|[11.0,5.4,3.7,1.5...|      0|\n",
            "|[12.0,4.8,3.4,1.6...|[12.0,4.8,3.4,1.6...|      0|\n",
            "|[13.0,4.8,3.0,1.4...|[13.0,4.8,3.0,1.4...|      0|\n",
            "|[14.0,4.3,3.0,1.1...|[14.0,4.3,3.0,1.1...|      0|\n",
            "|[15.0,5.8,4.0,1.2...|[15.0,5.8,4.0,1.2...|      0|\n",
            "|[16.0,5.7,4.4,1.5...|[16.0,5.7,4.4,1.5...|      0|\n",
            "|[17.0,5.4,3.9,1.3...|[17.0,5.4,3.9,1.3...|      0|\n",
            "|[18.0,5.1,3.5,1.4...|[18.0,5.1,3.5,1.4...|      0|\n",
            "|[19.0,5.7,3.8,1.7...|[19.0,5.7,3.8,1.7...|      0|\n",
            "|[20.0,5.1,3.8,1.5...|[20.0,5.1,3.8,1.5...|      0|\n",
            "+--------------------+--------------------+-------+\n",
            "only showing top 20 rows\n",
            "\n"
          ]
        }
      ]
    },
    {
      "cell_type": "markdown",
      "source": [
        "## Source 2 - End to End PySpark Clustering by Josephgeorgelewis"
      ],
      "metadata": {
        "id": "oQTVAsZ4Nm9y"
      }
    },
    {
      "cell_type": "markdown",
      "source": [
        "### Setting up a PySpark environment in Colab"
      ],
      "metadata": {
        "id": "rR1vgdwyNqde"
      }
    },
    {
      "cell_type": "code",
      "source": [
        "#set up Java Dev Kit and download Spark and Hadoop \n",
        "!apt-get install openjdk-8-jdk-headless -qq > /dev/null\n",
        "!wget https://downloads.apache.org/spark/spark-3.2.4/spark-3.2.4-bin-hadoop3.2.tgz\n",
        "\n",
        "# unpack Spark and Hadoop\n",
        "!tar xf spark-3.2.4-bin-hadoop3.2.tgz\n",
        "\n",
        "# set up home paths for Java and Spark\n",
        "import os\n",
        "os.environ[\"JAVA_HOME\"] = \"/usr/lib/jvm/java-8-openjdk-amd64\"\n",
        "os.environ[\"SPARK_HOME\"] = \"/content/spark-3.2.4-bin-hadoop3.2\""
      ],
      "metadata": {
        "colab": {
          "base_uri": "https://localhost:8080/"
        },
        "id": "i-KlrCuLOMYF",
        "outputId": "d08ea16a-6f59-4819-d0af-3c2955e1a1db"
      },
      "execution_count": 73,
      "outputs": [
        {
          "output_type": "stream",
          "name": "stdout",
          "text": [
            "--2023-06-01 18:30:05--  https://downloads.apache.org/spark/spark-3.2.4/spark-3.2.4-bin-hadoop3.2.tgz\n",
            "Resolving downloads.apache.org (downloads.apache.org)... 135.181.214.104, 88.99.95.219, 2a01:4f9:3a:2c57::2, ...\n",
            "Connecting to downloads.apache.org (downloads.apache.org)|135.181.214.104|:443... connected.\n",
            "HTTP request sent, awaiting response... 200 OK\n",
            "Length: 301183180 (287M) [application/x-gzip]\n",
            "Saving to: ‘spark-3.2.4-bin-hadoop3.2.tgz’\n",
            "\n",
            "spark-3.2.4-bin-had 100%[===================>] 287.23M  18.2MB/s    in 17s     \n",
            "\n",
            "2023-06-01 18:30:23 (17.0 MB/s) - ‘spark-3.2.4-bin-hadoop3.2.tgz’ saved [301183180/301183180]\n",
            "\n"
          ]
        }
      ]
    },
    {
      "cell_type": "code",
      "source": [
        "# install, import and initialise findspark \n",
        "!pip install -q findspark\n",
        "import findspark\n",
        "findspark.init()\n",
        "\n",
        "# set up spark session \n",
        "from pyspark.sql import SparkSession\n",
        "spark = SparkSession.builder\\\n",
        "        .master(\"local\")\\\n",
        "        .appName(\"Colab\")\\\n",
        "        .config('spark.ui.port', '4050')\\\n",
        "        .getOrCreate()"
      ],
      "metadata": {
        "id": "dkTY1BsPOUJg"
      },
      "execution_count": null,
      "outputs": []
    },
    {
      "cell_type": "markdown",
      "source": [
        "### Collecting data from an API"
      ],
      "metadata": {
        "id": "jzxWFWBGOaDF"
      }
    },
    {
      "cell_type": "code",
      "source": [
        "import requests\n",
        "import json"
      ],
      "metadata": {
        "id": "F6OYfmE2Oakr"
      },
      "execution_count": 74,
      "outputs": []
    },
    {
      "cell_type": "code",
      "source": [
        "# base URL \n",
        "url = 'https://api.le-systeme-solaire.net/rest/bodies'\n",
        "\n",
        "# extra parameters, see full docs for more \n",
        "params = {'exclude' :'mass,vol,moons,discoveredBy,discoveryDate,alternativeName,axialTilt,avgTemp,mainAnomaly,argPeriapsis,longAscNode,rel,aroundPlanet,sideralOrbit,sideralRotation,dimension,flattening,polarRadius'}\n",
        "\n",
        "#´make request and store as JSON, then get the bodies element (the data we need)\n",
        "all_data = requests.get(url, params).json()\n",
        "all_data.get('bodies')\n",
        "\n",
        "# save file with data from the current request so we do not have to make multiple API calls to reset the data\n",
        "\n",
        "with open('data.json', 'w') as f:\n",
        "    json.dump(all_data.get('bodies'), f)\n",
        "     "
      ],
      "metadata": {
        "id": "HfgatHaLOgos"
      },
      "execution_count": 75,
      "outputs": []
    },
    {
      "cell_type": "code",
      "source": [
        "from pyspark.sql.types import StructType, StructField, BooleanType, FloatType, StringType\n",
        "\n",
        "# set up schema for data to be stored with correct data types and nullable fields \n",
        "schema = StructType([\n",
        "  StructField(\"id\", StringType(), False), \n",
        "  StructField(\"englishName\", StringType(), True),\n",
        "  StructField(\"isPlanet\", BooleanType(), True),\n",
        "  StructField(\"density\", FloatType(), True),\n",
        "  StructField(\"gravity\", FloatType(), True),\n",
        "  StructField(\"escape\", FloatType(), True)\n",
        "])\n",
        "\n",
        "# read in JSON file with the schema set \n",
        "df = spark.read.json('data.json', schema)\n",
        "df.show(5)"
      ],
      "metadata": {
        "colab": {
          "base_uri": "https://localhost:8080/"
        },
        "id": "TxBfD5PhOkur",
        "outputId": "5affdafe-2225-4a7d-8ca5-0533ce5ee1dc"
      },
      "execution_count": 76,
      "outputs": [
        {
          "output_type": "stream",
          "name": "stdout",
          "text": [
            "+------+-----------+--------+-------+-------+------+\n",
            "|    id|englishName|isPlanet|density|gravity|escape|\n",
            "+------+-----------+--------+-------+-------+------+\n",
            "|  lune|       Moon|   false|  3.344|   1.62|2380.0|\n",
            "|phobos|     Phobos|   false|    1.9| 0.0057| 11.39|\n",
            "|deimos|     Deimos|   false|   1.75|  0.003| 5.556|\n",
            "|    io|         Io|   false|   3.53|   1.79|   0.0|\n",
            "|europe|     Europa|   false|   3.01|   1.31|   0.0|\n",
            "+------+-----------+--------+-------+-------+------+\n",
            "only showing top 5 rows\n",
            "\n"
          ]
        }
      ]
    },
    {
      "cell_type": "markdown",
      "source": [
        "### Data Cleaning"
      ],
      "metadata": {
        "id": "5TSWYLMFO2fJ"
      }
    },
    {
      "cell_type": "code",
      "source": [
        "from pyspark.sql.functions import when, count, isnull\n",
        "\n",
        "# alias all columns \n",
        "cols = df.columns\n",
        "df.show()\n",
        "\n",
        "# show count of when the column is null for each of those columns\n",
        "df.select([count(when(isnull(c), c)).alias(c) for c in cols]).show()"
      ],
      "metadata": {
        "colab": {
          "base_uri": "https://localhost:8080/"
        },
        "id": "FcJsbnxjO9rS",
        "outputId": "3b6af259-58ef-4bd2-b8a6-3f7658b2ab00"
      },
      "execution_count": 78,
      "outputs": [
        {
          "output_type": "stream",
          "name": "stdout",
          "text": [
            "+----------+-----------+--------+-------+-------+------+\n",
            "|        id|englishName|isPlanet|density|gravity|escape|\n",
            "+----------+-----------+--------+-------+-------+------+\n",
            "|      lune|       Moon|   false|  3.344|   1.62|2380.0|\n",
            "|    phobos|     Phobos|   false|    1.9| 0.0057| 11.39|\n",
            "|    deimos|     Deimos|   false|   1.75|  0.003| 5.556|\n",
            "|        io|         Io|   false|   3.53|   1.79|   0.0|\n",
            "|    europe|     Europa|   false|   3.01|   1.31|   0.0|\n",
            "|  ganymede|   Ganymede|   false|   1.94|  1.428|   0.0|\n",
            "|  callisto|   Callisto|   false|   1.83|  1.235|   0.0|\n",
            "|  amalthee|   Amalthea|   false|    3.1|   0.02|   0.0|\n",
            "|   himalia|    Himalia|   false|    1.0|  0.062|   0.0|\n",
            "|     elara|      Elara|   false|    1.0|  0.031|   0.0|\n",
            "|  pasiphae|   Pasiphae|   false|    1.0|  0.022|   0.0|\n",
            "|    sinope|     Sinope|   false|    1.0|  0.014|   0.0|\n",
            "|  lysithea|   Lysithea|   false|    1.0|  0.013|   0.0|\n",
            "|     carme|      Carme|   false|    1.0|  0.017|   0.0|\n",
            "|    ananke|     Ananke|   false|    1.0|   0.01|   0.0|\n",
            "|      leda|       Leda|   false|    1.0| 0.0073|   0.0|\n",
            "|     thebe|      Thebe|   false|    1.0|   0.02|   0.0|\n",
            "|  adrastee|   Adrastea|   false|    1.0|  0.002|   0.0|\n",
            "|     metis|      Metis|   false|    1.0|  0.005|   0.0|\n",
            "|callirrhoe| Callirrhoe|   false|    1.0| 0.0031|   0.0|\n",
            "+----------+-----------+--------+-------+-------+------+\n",
            "only showing top 20 rows\n",
            "\n",
            "+---+-----------+--------+-------+-------+------+\n",
            "| id|englishName|isPlanet|density|gravity|escape|\n",
            "+---+-----------+--------+-------+-------+------+\n",
            "|  0|          0|       0|      0|      0|     0|\n",
            "+---+-----------+--------+-------+-------+------+\n",
            "\n"
          ]
        }
      ]
    },
    {
      "cell_type": "code",
      "source": [
        "from pyspark.sql.functions import isnan\n",
        "\n",
        "# check schema to find all numeric cols\n",
        "df.printSchema()  \n",
        "\n",
        "# list all numeric cols \n",
        "num_cols = ['density', 'gravity', 'escape']\n",
        "\n",
        "# select a count of all the numeric columns where they are NaN and show\n",
        "df.select([count(when(isnan(c), c)).alias(c) for c in num_cols]).show()"
      ],
      "metadata": {
        "colab": {
          "base_uri": "https://localhost:8080/"
        },
        "id": "tMf8SvEyPIaT",
        "outputId": "fcb29f85-f848-43a0-e1ae-be509aa080c5"
      },
      "execution_count": 79,
      "outputs": [
        {
          "output_type": "stream",
          "name": "stdout",
          "text": [
            "root\n",
            " |-- id: string (nullable = true)\n",
            " |-- englishName: string (nullable = true)\n",
            " |-- isPlanet: boolean (nullable = true)\n",
            " |-- density: float (nullable = true)\n",
            " |-- gravity: float (nullable = true)\n",
            " |-- escape: float (nullable = true)\n",
            "\n",
            "+-------+-------+------+\n",
            "|density|gravity|escape|\n",
            "+-------+-------+------+\n",
            "|      0|      0|     0|\n",
            "+-------+-------+------+\n",
            "\n"
          ]
        }
      ]
    },
    {
      "cell_type": "code",
      "source": [
        "import pandas as pd\n",
        "import plotly.express as px\n",
        "\n",
        "# convert the data frame to pandas for visualisation\n",
        "outliers = df.toPandas()\n",
        "\n",
        "# plot a scatter plot of all the points to find obvious outliers\n",
        "scatter = px.scatter(outliers, 'gravity', 'escape', hover_name='englishName', template='ggplot2')\n",
        "scatter.show()\n",
        "\n",
        "# filter out Jupiter from PySpark DF as it was a clear outlier\n",
        "df=df.filter(df.id!='jupiter')\n",
        "\n",
        "# repeat above process to ensure the removal has worked properly\n",
        "outliers = df.toPandas()\n",
        "\n",
        "scatter = px.scatter(outliers, 'gravity', 'escape', hover_name='englishName', template='ggplot2')\n",
        "scatter.show()"
      ],
      "metadata": {
        "colab": {
          "base_uri": "https://localhost:8080/",
          "height": 1000
        },
        "id": "JuoZSlV3PLUv",
        "outputId": "d9e89196-d6db-4933-f6ef-9dbcadfefee8"
      },
      "execution_count": 80,
      "outputs": [
        {
          "output_type": "display_data",
          "data": {
            "text/html": [
              "<html>\n",
              "<head><meta charset=\"utf-8\" /></head>\n",
              "<body>\n",
              "    <div>            <script src=\"https://cdnjs.cloudflare.com/ajax/libs/mathjax/2.7.5/MathJax.js?config=TeX-AMS-MML_SVG\"></script><script type=\"text/javascript\">if (window.MathJax && window.MathJax.Hub && window.MathJax.Hub.Config) {window.MathJax.Hub.Config({SVG: {font: \"STIX-Web\"}});}</script>                <script type=\"text/javascript\">window.PlotlyConfig = {MathJaxConfig: 'local'};</script>\n",
              "        <script src=\"https://cdn.plot.ly/plotly-2.18.2.min.js\"></script>                <div id=\"acdb8fb5-2bf7-4aec-b9bf-7bc2b73dadf3\" class=\"plotly-graph-div\" style=\"height:525px; width:100%;\"></div>            <script type=\"text/javascript\">                                    window.PLOTLYENV=window.PLOTLYENV || {};                                    if (document.getElementById(\"acdb8fb5-2bf7-4aec-b9bf-7bc2b73dadf3\")) {                    Plotly.newPlot(                        \"acdb8fb5-2bf7-4aec-b9bf-7bc2b73dadf3\",                        [{\"hovertemplate\":\"<b>%{hovertext}</b><br><br>gravity=%{x}<br>escape=%{y}<extra></extra>\",\"hovertext\":[\"Moon\",\"Phobos\",\"Deimos\",\"Io\",\"Europa\",\"Ganymede\",\"Callisto\",\"Amalthea\",\"Himalia\",\"Elara\",\"Pasiphae\",\"Sinope\",\"Lysithea\",\"Carme\",\"Ananke\",\"Leda\",\"Thebe\",\"Adrastea\",\"Metis\",\"Callirrhoe\",\"Themisto\",\"Megaclite\",\"Taygete\",\"Chaldene\",\"Harpalyke\",\"Kalyke\",\"Iocaste\",\"Erinome\",\"Isonoe\",\"Praxidike\",\"Autonoe\",\"Thyone\",\"Hermippe\",\"Aitne\",\"Eurydome\",\"Euanthe\",\"Euporie\",\"Orthosie\",\"Sponde\",\"Kale\",\"Pasithee\",\"Hegemone\",\"Mneme\",\"Aoede\",\"Thelxinoe\",\"Arche\",\"Kallichore\",\"Helike\",\"Carpo\",\"Eukelade\",\"Cyllene\",\"Kore\",\"Herse\",\"S/2003 J 2\",\"Eupheme\",\"S/2003 J 4\",\"Eirene\",\"S/2003 J 9\",\"S/2003 J 10\",\"S/2003 J 12\",\"Philophrosyne\",\"S/2003 J 16\",\"S/2003 J 18\",\"S/2003 J 19\",\"S/2003 J 23\",\"Mimas\",\"Enceladus\",\"Tethys\",\"Dione\",\"Rhea\",\"Titan\",\"Hyperion\",\"Iapetus\",\"Phoebe\",\"Janus\",\"Epimetheus\",\"Helene\",\"Telesto\",\"Calypso\",\"Atlas\",\"Prometheus\",\"Pandora\",\"Pan\",\"Ymir\",\"Paaliaq\",\"Tarvos\",\"Ijiraq\",\"Suttungr\",\"Kiviuq\",\"Mundilfari\",\"Albiorix\",\"Skathi\",\"Erriapus\",\"Siarnaq\",\"Thrymr\",\"Narvi\",\"Methone\",\"Pallene\",\"Polydeuces\",\"Daphnis\",\"Aegir\",\"Bebhionn\",\"Bergelmir\",\"Bestla\",\"Farbauti\",\"Fenrir\",\"Fornjot\",\"Hati\",\"Hyrrokkin\",\"Kari\",\"Loge\",\"Skoll\",\"Surtur\",\"Anthe\",\"Jarnsaxa\",\"Greip\",\"Tarqeq\",\"Aegaeon\",\"S/2004 S 7\",\"S/2004 S 12\",\"S/2004 S 13\",\"S/2004 S 17\",\"S/2006 S 1\",\"S/2006 S 3\",\"S/2007 S 2\",\"S/2007 S 3\",\"S/2009 S 1\",\"Ariel\",\"Umbriel\",\"Titania\",\"Oberon\",\"Miranda\",\"Cordelia\",\"Ophelia\",\"Bianca\",\"Cressida\",\"Desdemona\",\"Juliet\",\"Portia\",\"Rosalind\",\"Belinda\",\"Puck\",\"Caliban\",\"Sycorax\",\"Prospero\",\"Setebos\",\"Stephano\",\"Trinculo\",\"Francisco\",\"Margaret\",\"Ferdinand\",\"Perdita\",\"Mab\",\"Cupid\",\"Triton\",\"Nereid\",\"Naiad\",\"Thalassa\",\"Despina\",\"Galatea\",\"Larissa\",\"Proteus\",\"Halimede\",\"Psamathe\",\"Sao\",\"Laomedeia\",\"Neso\",\"Charon\",\"Nix\",\"Hydra\",\"Namaka\",\"Hi\\u02bbiaka\",\"Dysnomia\",\"Dia\",\"S/2004 S 3\",\"S/2004 S 4\",\"S/2004 S 6\",\"S/2010 J 1\",\"S/2010 J 2\",\"1 Ceres\",\"6 Hebe\",\"47171 Lempo\",\"The Little Prince\",\"762 Pulcova\",\"4179 Toutatis\",\"50000 Quaoar\",\"2867 \\u0160teins\",\"136199 Eris\",\"5 Astraea\",\"5145 Pholus\",\"4769 Castalia\",\"Remus\",\"624 Hektor\",\"216 Kleopatra\",\"3753 Cruithne\",\"3 Juno\",\"10 Hygiea\",\"21 Lutetia\",\"253 Mathilde\",\"Uranus\",\"7 Iris\",\"433 Eros\",\"Vanth\",\"90377 Sedna\",\"10199 Chariklo\",\"87 Sylvia\",\"(243) Ida I Dactyl\",\"90482 Orcus\",\"Pluto\",\"5335 Damocles\",\"Romulus\",\"Alexhelios\",\"Cleoselene\",\"8 Flora\",\"2060 Chiron\",\"5261 Eureka\",\"588 Achilles\",\"Weywot\",\"28978 Ixion\",\"Neptune\",\"Shoemaker-Levy 9\",\"9 Metis\",\"136108 Haumea\",\"7066 Nessus\",\"25143 Itokawa\",\"10370 Hylonome\",\"45 Eugenia\",\"(308933) 2006 SQ372\",\"2 Pallas\",\"8405 Asbolus\",\"20000 Varuna\",\"4 Vesta\",\"243 Ida\",\"Comet Hyakutake\",\"951 Gaspra\",\"15760 Albion\",\"136472 Makemake\",\"Halley's Comet\",\"Jupiter\",\"Mars\",\"Mercury\",\"Saturn\",\"Sun\",\"Earth\",\"Venus\",\"Kerberos\",\"S/2011 J 1\",\"S/2011 J 2\",\"Styx\",\"Hippocamp\",\"S/2015 (136472) 1\",\"S/2017 J 1\",\"S/2016 J 1\",\"Valetudo\",\"S/2017 J 2\",\"S/2017 J 3\",\"Pandia\",\"S/2017 J 5\",\"S/2017 J 6\",\"S/2017 J 7\",\"S/2017 J 8\",\"S/2017 J 9\",\"Ersa\",\"Arrokoth\",\"101955 Bennu\",\"S/2004 S 22\",\"S/2004 S 21\",\"S/2004 S 20\",\"S/2004 S 23\",\"S/2004 S 24\",\"S/2004 S 25\",\"S/2004 S 26\",\"S/2004 S 27\",\"S/2004 S 28\",\"S/2004 S 29\",\"S/2004 S 30\",\"S/2004 S 31\",\"S/2004 S 32\",\"S/2004 S 33\",\"S/2004 S 34\",\"S/2004 S 35\",\"S/2004 S 36\",\"S/2004 S 37\",\"S/2004 S 38\",\"S/2004 S 39\",\"C/2020 F3 (NEOWISE)\",\"S/2003 J 24\"],\"legendgroup\":\"\",\"marker\":{\"color\":\"#F8766D\",\"symbol\":\"circle\"},\"mode\":\"markers\",\"name\":\"\",\"orientation\":\"v\",\"showlegend\":false,\"x\":[1.6200000047683716,0.00570000009611249,0.003000000026077032,1.7899999618530273,1.309999942779541,1.4279999732971191,1.2350000143051147,0.019999999552965164,0.06199999898672104,0.03099999949336052,0.02199999988079071,0.014000000432133675,0.013000000268220901,0.017000000923871994,0.009999999776482582,0.007300000172108412,0.019999999552965164,0.0020000000949949026,0.004999999888241291,0.003100000089034438,0.002899999963119626,0.0,0.0,0.0,0.0,0.0,0.0,0.0,0.0,0.0,0.001500000013038516,0.001500000013038516,0.001500000013038516,0.0012000000569969416,0.0012000000569969416,0.0012000000569969416,0.0,0.0008099999977275729,0.0008099999977275729,0.0008099999977275729,0.0008099999977275729,0.0,0.0,0.0,0.0,0.0012000000569969416,0.0,0.0,0.0,0.0,0.0,0.0,0.0,0.0,0.0,0.0,0.0,0.0,0.0,0.0,0.0,0.0,0.0,0.0,0.0008099999977275729,0.0,0.0,0.0,0.0,0.0,0.0,0.0,0.0,0.0,0.0,0.0,0.0,0.0,0.0,0.0,0.0,0.0,0.0,0.0,0.0,0.0,0.0,0.0,0.0,0.0,0.0,0.0,0.0,0.0,0.0,0.0,0.0,0.0,0.0,0.0,0.0,0.0,0.0,0.0,0.0,0.0,0.0,0.0,0.0,0.0,0.0,0.0,0.0,0.0,0.0,0.0,0.0,0.0,0.0,0.0,0.0,0.0,0.0,0.0,0.0,0.0,0.0,0.0,0.0,0.0,0.0,0.0,0.0,0.0,0.0,0.0,0.0,0.0,0.0,0.0,0.0,0.0,0.0,0.0,0.0,0.0,0.0,0.0,0.0,0.0,0.0,0.0,0.0,0.0,0.7799999713897705,0.07100000232458115,0.009999999776482582,0.013000000268220901,0.023000000044703484,0.029999999329447746,0.03400000184774399,0.07500000298023224,0.009999999776482582,0.0,0.009999999776482582,0.009999999776482582,0.0,0.0,0.0,0.0,0.0,0.0,0.0,0.0,0.0,0.0,0.0,0.0,0.0,0.2800000011920929,0.0,0.0,0.0,0.0,0.0,0.0,0.0,0.8199999928474426,0.0,0.0,0.0,0.0,0.0,0.0,0.0,0.0,0.0,0.0,0.0,8.869999885559082,0.0,0.0,0.0,0.0,0.0,0.0,0.0,0.0,0.6200000047683716,0.0,0.0,0.0,0.0,0.0,0.0,0.0,0.0,0.0,0.0,11.149999618530273,0.0,0.0,0.4009999930858612,0.0,0.0,0.0,0.0,0.0,0.0,0.0,0.0,0.0,0.0,0.0,0.0,0.0,0.5,0.0,24.790000915527344,3.7100000381469727,3.700000047683716,10.4399995803833,0.0,9.800000190734863,8.869999885559082,0.0,0.0,0.0,0.0,0.0,0.0,0.0,0.0,0.0,0.0,0.0,0.0,0.0,0.0,0.0,0.0,0.0,0.0,0.0,0.0,0.0,0.0,0.0,0.0,0.0,0.0,0.0,0.0,0.0,0.0,0.0,0.0,0.0,0.0,0.0,0.0,0.0,0.0,0.0,0.0,0.0,0.0],\"xaxis\":\"x\",\"y\":[2380.0,11.390000343322754,5.556000232696533,0.0,0.0,0.0,0.0,0.0,0.0,0.0,0.0,0.0,0.0,0.0,0.0,0.0,0.0,0.0,0.0,0.0,0.0,0.0,0.0,0.0,0.0,0.0,0.0,0.0,0.0,0.0,0.0,0.0,0.0,0.0,0.0,0.0,0.0,0.0,0.0,0.0,0.0,0.0,0.0,0.0,0.0,0.0,0.0,0.0,0.0,0.0,0.0,0.0,0.0,0.0,0.0,0.0,0.0,0.0,0.0,0.0,0.0,0.0,0.0,0.0,0.0,0.0,0.0,0.0,0.0,0.0,0.0,0.0,0.0,0.0,0.0,0.0,0.0,0.0,0.0,0.0,0.0,0.0,0.0,0.0,0.0,0.0,0.0,0.0,0.0,0.0,0.0,0.0,0.0,0.0,0.0,0.0,0.0,0.0,0.0,0.0,0.0,0.0,0.0,0.0,0.0,0.0,0.0,0.0,0.0,0.0,0.0,0.0,0.0,0.0,0.0,0.0,0.0,0.0,0.0,0.0,0.0,0.0,0.0,0.0,0.0,0.0,0.0,0.0,0.0,0.0,0.0,0.0,0.0,0.0,0.0,0.0,0.0,0.0,0.0,0.0,0.0,0.0,0.0,0.0,0.0,0.0,0.0,0.0,0.0,0.0,0.0,0.0,0.0,0.0,0.0,0.0,0.0,0.0,0.0,0.0,0.0,0.0,0.0,0.0,0.0,0.0,0.0,0.0,0.0,0.0,0.0,0.0,0.0,0.0,0.0,0.0,0.0,0.0,0.0,510.0,0.0,0.0,0.0,0.0,0.0,0.0,0.0,1380.0,0.0,0.0,0.0,0.0,0.0,0.0,0.0,0.0,0.0,0.0,0.0,21380.0,0.0,0.0,0.0,0.0,0.0,0.0,0.0,0.0,1210.0,0.0,0.0,0.0,0.0,0.0,0.0,0.0,0.0,0.0,0.0,23560.0,0.0,0.0,809.0,0.0,0.0,0.0,0.0,0.0,0.0,0.0,0.0,0.0,0.0,0.0,0.0,0.0,800.0,0.0,60200.0,5030.0,4250.0,36090.0,0.0,11190.0,10360.0,0.0,0.0,0.0,0.0,0.0,0.0,0.0,0.0,0.0,0.0,0.0,0.0,0.0,0.0,0.0,0.0,0.0,0.0,0.0,0.0,0.0,0.0,0.0,0.0,0.0,0.0,0.0,0.0,0.0,0.0,0.0,0.0,0.0,0.0,0.0,0.0,0.0,0.0,0.0,0.0,0.0,0.0],\"yaxis\":\"y\",\"type\":\"scatter\"}],                        {\"template\":{\"data\":{\"barpolar\":[{\"marker\":{\"line\":{\"color\":\"rgb(237,237,237)\",\"width\":0.5},\"pattern\":{\"fillmode\":\"overlay\",\"size\":10,\"solidity\":0.2}},\"type\":\"barpolar\"}],\"bar\":[{\"error_x\":{\"color\":\"rgb(51,51,51)\"},\"error_y\":{\"color\":\"rgb(51,51,51)\"},\"marker\":{\"line\":{\"color\":\"rgb(237,237,237)\",\"width\":0.5},\"pattern\":{\"fillmode\":\"overlay\",\"size\":10,\"solidity\":0.2}},\"type\":\"bar\"}],\"carpet\":[{\"aaxis\":{\"endlinecolor\":\"rgb(51,51,51)\",\"gridcolor\":\"white\",\"linecolor\":\"white\",\"minorgridcolor\":\"white\",\"startlinecolor\":\"rgb(51,51,51)\"},\"baxis\":{\"endlinecolor\":\"rgb(51,51,51)\",\"gridcolor\":\"white\",\"linecolor\":\"white\",\"minorgridcolor\":\"white\",\"startlinecolor\":\"rgb(51,51,51)\"},\"type\":\"carpet\"}],\"choropleth\":[{\"colorbar\":{\"outlinewidth\":0,\"tickcolor\":\"rgb(237,237,237)\",\"ticklen\":6,\"ticks\":\"inside\"},\"type\":\"choropleth\"}],\"contourcarpet\":[{\"colorbar\":{\"outlinewidth\":0,\"tickcolor\":\"rgb(237,237,237)\",\"ticklen\":6,\"ticks\":\"inside\"},\"type\":\"contourcarpet\"}],\"contour\":[{\"colorbar\":{\"outlinewidth\":0,\"tickcolor\":\"rgb(237,237,237)\",\"ticklen\":6,\"ticks\":\"inside\"},\"colorscale\":[[0,\"rgb(20,44,66)\"],[1,\"rgb(90,179,244)\"]],\"type\":\"contour\"}],\"heatmapgl\":[{\"colorbar\":{\"outlinewidth\":0,\"tickcolor\":\"rgb(237,237,237)\",\"ticklen\":6,\"ticks\":\"inside\"},\"colorscale\":[[0,\"rgb(20,44,66)\"],[1,\"rgb(90,179,244)\"]],\"type\":\"heatmapgl\"}],\"heatmap\":[{\"colorbar\":{\"outlinewidth\":0,\"tickcolor\":\"rgb(237,237,237)\",\"ticklen\":6,\"ticks\":\"inside\"},\"colorscale\":[[0,\"rgb(20,44,66)\"],[1,\"rgb(90,179,244)\"]],\"type\":\"heatmap\"}],\"histogram2dcontour\":[{\"colorbar\":{\"outlinewidth\":0,\"tickcolor\":\"rgb(237,237,237)\",\"ticklen\":6,\"ticks\":\"inside\"},\"colorscale\":[[0,\"rgb(20,44,66)\"],[1,\"rgb(90,179,244)\"]],\"type\":\"histogram2dcontour\"}],\"histogram2d\":[{\"colorbar\":{\"outlinewidth\":0,\"tickcolor\":\"rgb(237,237,237)\",\"ticklen\":6,\"ticks\":\"inside\"},\"colorscale\":[[0,\"rgb(20,44,66)\"],[1,\"rgb(90,179,244)\"]],\"type\":\"histogram2d\"}],\"histogram\":[{\"marker\":{\"pattern\":{\"fillmode\":\"overlay\",\"size\":10,\"solidity\":0.2}},\"type\":\"histogram\"}],\"mesh3d\":[{\"colorbar\":{\"outlinewidth\":0,\"tickcolor\":\"rgb(237,237,237)\",\"ticklen\":6,\"ticks\":\"inside\"},\"type\":\"mesh3d\"}],\"parcoords\":[{\"line\":{\"colorbar\":{\"outlinewidth\":0,\"tickcolor\":\"rgb(237,237,237)\",\"ticklen\":6,\"ticks\":\"inside\"}},\"type\":\"parcoords\"}],\"pie\":[{\"automargin\":true,\"type\":\"pie\"}],\"scatter3d\":[{\"line\":{\"colorbar\":{\"outlinewidth\":0,\"tickcolor\":\"rgb(237,237,237)\",\"ticklen\":6,\"ticks\":\"inside\"}},\"marker\":{\"colorbar\":{\"outlinewidth\":0,\"tickcolor\":\"rgb(237,237,237)\",\"ticklen\":6,\"ticks\":\"inside\"}},\"type\":\"scatter3d\"}],\"scattercarpet\":[{\"marker\":{\"colorbar\":{\"outlinewidth\":0,\"tickcolor\":\"rgb(237,237,237)\",\"ticklen\":6,\"ticks\":\"inside\"}},\"type\":\"scattercarpet\"}],\"scattergeo\":[{\"marker\":{\"colorbar\":{\"outlinewidth\":0,\"tickcolor\":\"rgb(237,237,237)\",\"ticklen\":6,\"ticks\":\"inside\"}},\"type\":\"scattergeo\"}],\"scattergl\":[{\"marker\":{\"colorbar\":{\"outlinewidth\":0,\"tickcolor\":\"rgb(237,237,237)\",\"ticklen\":6,\"ticks\":\"inside\"}},\"type\":\"scattergl\"}],\"scattermapbox\":[{\"marker\":{\"colorbar\":{\"outlinewidth\":0,\"tickcolor\":\"rgb(237,237,237)\",\"ticklen\":6,\"ticks\":\"inside\"}},\"type\":\"scattermapbox\"}],\"scatterpolargl\":[{\"marker\":{\"colorbar\":{\"outlinewidth\":0,\"tickcolor\":\"rgb(237,237,237)\",\"ticklen\":6,\"ticks\":\"inside\"}},\"type\":\"scatterpolargl\"}],\"scatterpolar\":[{\"marker\":{\"colorbar\":{\"outlinewidth\":0,\"tickcolor\":\"rgb(237,237,237)\",\"ticklen\":6,\"ticks\":\"inside\"}},\"type\":\"scatterpolar\"}],\"scatter\":[{\"fillpattern\":{\"fillmode\":\"overlay\",\"size\":10,\"solidity\":0.2},\"type\":\"scatter\"}],\"scatterternary\":[{\"marker\":{\"colorbar\":{\"outlinewidth\":0,\"tickcolor\":\"rgb(237,237,237)\",\"ticklen\":6,\"ticks\":\"inside\"}},\"type\":\"scatterternary\"}],\"surface\":[{\"colorbar\":{\"outlinewidth\":0,\"tickcolor\":\"rgb(237,237,237)\",\"ticklen\":6,\"ticks\":\"inside\"},\"colorscale\":[[0,\"rgb(20,44,66)\"],[1,\"rgb(90,179,244)\"]],\"type\":\"surface\"}],\"table\":[{\"cells\":{\"fill\":{\"color\":\"rgb(237,237,237)\"},\"line\":{\"color\":\"white\"}},\"header\":{\"fill\":{\"color\":\"rgb(217,217,217)\"},\"line\":{\"color\":\"white\"}},\"type\":\"table\"}]},\"layout\":{\"annotationdefaults\":{\"arrowhead\":0,\"arrowwidth\":1},\"autotypenumbers\":\"strict\",\"coloraxis\":{\"colorbar\":{\"outlinewidth\":0,\"tickcolor\":\"rgb(237,237,237)\",\"ticklen\":6,\"ticks\":\"inside\"}},\"colorscale\":{\"sequential\":[[0,\"rgb(20,44,66)\"],[1,\"rgb(90,179,244)\"]],\"sequentialminus\":[[0,\"rgb(20,44,66)\"],[1,\"rgb(90,179,244)\"]]},\"colorway\":[\"#F8766D\",\"#A3A500\",\"#00BF7D\",\"#00B0F6\",\"#E76BF3\"],\"font\":{\"color\":\"rgb(51,51,51)\"},\"geo\":{\"bgcolor\":\"white\",\"lakecolor\":\"white\",\"landcolor\":\"rgb(237,237,237)\",\"showlakes\":true,\"showland\":true,\"subunitcolor\":\"white\"},\"hoverlabel\":{\"align\":\"left\"},\"hovermode\":\"closest\",\"paper_bgcolor\":\"white\",\"plot_bgcolor\":\"rgb(237,237,237)\",\"polar\":{\"angularaxis\":{\"gridcolor\":\"white\",\"linecolor\":\"white\",\"showgrid\":true,\"tickcolor\":\"rgb(51,51,51)\",\"ticks\":\"outside\"},\"bgcolor\":\"rgb(237,237,237)\",\"radialaxis\":{\"gridcolor\":\"white\",\"linecolor\":\"white\",\"showgrid\":true,\"tickcolor\":\"rgb(51,51,51)\",\"ticks\":\"outside\"}},\"scene\":{\"xaxis\":{\"backgroundcolor\":\"rgb(237,237,237)\",\"gridcolor\":\"white\",\"gridwidth\":2,\"linecolor\":\"white\",\"showbackground\":true,\"showgrid\":true,\"tickcolor\":\"rgb(51,51,51)\",\"ticks\":\"outside\",\"zerolinecolor\":\"white\"},\"yaxis\":{\"backgroundcolor\":\"rgb(237,237,237)\",\"gridcolor\":\"white\",\"gridwidth\":2,\"linecolor\":\"white\",\"showbackground\":true,\"showgrid\":true,\"tickcolor\":\"rgb(51,51,51)\",\"ticks\":\"outside\",\"zerolinecolor\":\"white\"},\"zaxis\":{\"backgroundcolor\":\"rgb(237,237,237)\",\"gridcolor\":\"white\",\"gridwidth\":2,\"linecolor\":\"white\",\"showbackground\":true,\"showgrid\":true,\"tickcolor\":\"rgb(51,51,51)\",\"ticks\":\"outside\",\"zerolinecolor\":\"white\"}},\"shapedefaults\":{\"fillcolor\":\"black\",\"line\":{\"width\":0},\"opacity\":0.3},\"ternary\":{\"aaxis\":{\"gridcolor\":\"white\",\"linecolor\":\"white\",\"showgrid\":true,\"tickcolor\":\"rgb(51,51,51)\",\"ticks\":\"outside\"},\"baxis\":{\"gridcolor\":\"white\",\"linecolor\":\"white\",\"showgrid\":true,\"tickcolor\":\"rgb(51,51,51)\",\"ticks\":\"outside\"},\"bgcolor\":\"rgb(237,237,237)\",\"caxis\":{\"gridcolor\":\"white\",\"linecolor\":\"white\",\"showgrid\":true,\"tickcolor\":\"rgb(51,51,51)\",\"ticks\":\"outside\"}},\"xaxis\":{\"automargin\":true,\"gridcolor\":\"white\",\"linecolor\":\"white\",\"showgrid\":true,\"tickcolor\":\"rgb(51,51,51)\",\"ticks\":\"outside\",\"title\":{\"standoff\":15},\"zerolinecolor\":\"white\"},\"yaxis\":{\"automargin\":true,\"gridcolor\":\"white\",\"linecolor\":\"white\",\"showgrid\":true,\"tickcolor\":\"rgb(51,51,51)\",\"ticks\":\"outside\",\"title\":{\"standoff\":15},\"zerolinecolor\":\"white\"}}},\"xaxis\":{\"anchor\":\"y\",\"domain\":[0.0,1.0],\"title\":{\"text\":\"gravity\"}},\"yaxis\":{\"anchor\":\"x\",\"domain\":[0.0,1.0],\"title\":{\"text\":\"escape\"}},\"legend\":{\"tracegroupgap\":0},\"margin\":{\"t\":60}},                        {\"responsive\": true}                    ).then(function(){\n",
              "                            \n",
              "var gd = document.getElementById('acdb8fb5-2bf7-4aec-b9bf-7bc2b73dadf3');\n",
              "var x = new MutationObserver(function (mutations, observer) {{\n",
              "        var display = window.getComputedStyle(gd).display;\n",
              "        if (!display || display === 'none') {{\n",
              "            console.log([gd, 'removed!']);\n",
              "            Plotly.purge(gd);\n",
              "            observer.disconnect();\n",
              "        }}\n",
              "}});\n",
              "\n",
              "// Listen for the removal of the full notebook cells\n",
              "var notebookContainer = gd.closest('#notebook-container');\n",
              "if (notebookContainer) {{\n",
              "    x.observe(notebookContainer, {childList: true});\n",
              "}}\n",
              "\n",
              "// Listen for the clearing of the current output cell\n",
              "var outputEl = gd.closest('.output');\n",
              "if (outputEl) {{\n",
              "    x.observe(outputEl, {childList: true});\n",
              "}}\n",
              "\n",
              "                        })                };                            </script>        </div>\n",
              "</body>\n",
              "</html>"
            ]
          },
          "metadata": {}
        },
        {
          "output_type": "display_data",
          "data": {
            "text/html": [
              "<html>\n",
              "<head><meta charset=\"utf-8\" /></head>\n",
              "<body>\n",
              "    <div>            <script src=\"https://cdnjs.cloudflare.com/ajax/libs/mathjax/2.7.5/MathJax.js?config=TeX-AMS-MML_SVG\"></script><script type=\"text/javascript\">if (window.MathJax && window.MathJax.Hub && window.MathJax.Hub.Config) {window.MathJax.Hub.Config({SVG: {font: \"STIX-Web\"}});}</script>                <script type=\"text/javascript\">window.PlotlyConfig = {MathJaxConfig: 'local'};</script>\n",
              "        <script src=\"https://cdn.plot.ly/plotly-2.18.2.min.js\"></script>                <div id=\"06f0b44a-72c8-4273-80f7-5de3973a2b07\" class=\"plotly-graph-div\" style=\"height:525px; width:100%;\"></div>            <script type=\"text/javascript\">                                    window.PLOTLYENV=window.PLOTLYENV || {};                                    if (document.getElementById(\"06f0b44a-72c8-4273-80f7-5de3973a2b07\")) {                    Plotly.newPlot(                        \"06f0b44a-72c8-4273-80f7-5de3973a2b07\",                        [{\"hovertemplate\":\"<b>%{hovertext}</b><br><br>gravity=%{x}<br>escape=%{y}<extra></extra>\",\"hovertext\":[\"Moon\",\"Phobos\",\"Deimos\",\"Io\",\"Europa\",\"Ganymede\",\"Callisto\",\"Amalthea\",\"Himalia\",\"Elara\",\"Pasiphae\",\"Sinope\",\"Lysithea\",\"Carme\",\"Ananke\",\"Leda\",\"Thebe\",\"Adrastea\",\"Metis\",\"Callirrhoe\",\"Themisto\",\"Megaclite\",\"Taygete\",\"Chaldene\",\"Harpalyke\",\"Kalyke\",\"Iocaste\",\"Erinome\",\"Isonoe\",\"Praxidike\",\"Autonoe\",\"Thyone\",\"Hermippe\",\"Aitne\",\"Eurydome\",\"Euanthe\",\"Euporie\",\"Orthosie\",\"Sponde\",\"Kale\",\"Pasithee\",\"Hegemone\",\"Mneme\",\"Aoede\",\"Thelxinoe\",\"Arche\",\"Kallichore\",\"Helike\",\"Carpo\",\"Eukelade\",\"Cyllene\",\"Kore\",\"Herse\",\"S/2003 J 2\",\"Eupheme\",\"S/2003 J 4\",\"Eirene\",\"S/2003 J 9\",\"S/2003 J 10\",\"S/2003 J 12\",\"Philophrosyne\",\"S/2003 J 16\",\"S/2003 J 18\",\"S/2003 J 19\",\"S/2003 J 23\",\"Mimas\",\"Enceladus\",\"Tethys\",\"Dione\",\"Rhea\",\"Titan\",\"Hyperion\",\"Iapetus\",\"Phoebe\",\"Janus\",\"Epimetheus\",\"Helene\",\"Telesto\",\"Calypso\",\"Atlas\",\"Prometheus\",\"Pandora\",\"Pan\",\"Ymir\",\"Paaliaq\",\"Tarvos\",\"Ijiraq\",\"Suttungr\",\"Kiviuq\",\"Mundilfari\",\"Albiorix\",\"Skathi\",\"Erriapus\",\"Siarnaq\",\"Thrymr\",\"Narvi\",\"Methone\",\"Pallene\",\"Polydeuces\",\"Daphnis\",\"Aegir\",\"Bebhionn\",\"Bergelmir\",\"Bestla\",\"Farbauti\",\"Fenrir\",\"Fornjot\",\"Hati\",\"Hyrrokkin\",\"Kari\",\"Loge\",\"Skoll\",\"Surtur\",\"Anthe\",\"Jarnsaxa\",\"Greip\",\"Tarqeq\",\"Aegaeon\",\"S/2004 S 7\",\"S/2004 S 12\",\"S/2004 S 13\",\"S/2004 S 17\",\"S/2006 S 1\",\"S/2006 S 3\",\"S/2007 S 2\",\"S/2007 S 3\",\"S/2009 S 1\",\"Ariel\",\"Umbriel\",\"Titania\",\"Oberon\",\"Miranda\",\"Cordelia\",\"Ophelia\",\"Bianca\",\"Cressida\",\"Desdemona\",\"Juliet\",\"Portia\",\"Rosalind\",\"Belinda\",\"Puck\",\"Caliban\",\"Sycorax\",\"Prospero\",\"Setebos\",\"Stephano\",\"Trinculo\",\"Francisco\",\"Margaret\",\"Ferdinand\",\"Perdita\",\"Mab\",\"Cupid\",\"Triton\",\"Nereid\",\"Naiad\",\"Thalassa\",\"Despina\",\"Galatea\",\"Larissa\",\"Proteus\",\"Halimede\",\"Psamathe\",\"Sao\",\"Laomedeia\",\"Neso\",\"Charon\",\"Nix\",\"Hydra\",\"Namaka\",\"Hi\\u02bbiaka\",\"Dysnomia\",\"Dia\",\"S/2004 S 3\",\"S/2004 S 4\",\"S/2004 S 6\",\"S/2010 J 1\",\"S/2010 J 2\",\"1 Ceres\",\"6 Hebe\",\"47171 Lempo\",\"The Little Prince\",\"762 Pulcova\",\"4179 Toutatis\",\"50000 Quaoar\",\"2867 \\u0160teins\",\"136199 Eris\",\"5 Astraea\",\"5145 Pholus\",\"4769 Castalia\",\"Remus\",\"624 Hektor\",\"216 Kleopatra\",\"3753 Cruithne\",\"3 Juno\",\"10 Hygiea\",\"21 Lutetia\",\"253 Mathilde\",\"Uranus\",\"7 Iris\",\"433 Eros\",\"Vanth\",\"90377 Sedna\",\"10199 Chariklo\",\"87 Sylvia\",\"(243) Ida I Dactyl\",\"90482 Orcus\",\"Pluto\",\"5335 Damocles\",\"Romulus\",\"Alexhelios\",\"Cleoselene\",\"8 Flora\",\"2060 Chiron\",\"5261 Eureka\",\"588 Achilles\",\"Weywot\",\"28978 Ixion\",\"Neptune\",\"Shoemaker-Levy 9\",\"9 Metis\",\"136108 Haumea\",\"7066 Nessus\",\"25143 Itokawa\",\"10370 Hylonome\",\"45 Eugenia\",\"(308933) 2006 SQ372\",\"2 Pallas\",\"8405 Asbolus\",\"20000 Varuna\",\"4 Vesta\",\"243 Ida\",\"Comet Hyakutake\",\"951 Gaspra\",\"15760 Albion\",\"136472 Makemake\",\"Halley's Comet\",\"Mars\",\"Mercury\",\"Saturn\",\"Sun\",\"Earth\",\"Venus\",\"Kerberos\",\"S/2011 J 1\",\"S/2011 J 2\",\"Styx\",\"Hippocamp\",\"S/2015 (136472) 1\",\"S/2017 J 1\",\"S/2016 J 1\",\"Valetudo\",\"S/2017 J 2\",\"S/2017 J 3\",\"Pandia\",\"S/2017 J 5\",\"S/2017 J 6\",\"S/2017 J 7\",\"S/2017 J 8\",\"S/2017 J 9\",\"Ersa\",\"Arrokoth\",\"101955 Bennu\",\"S/2004 S 22\",\"S/2004 S 21\",\"S/2004 S 20\",\"S/2004 S 23\",\"S/2004 S 24\",\"S/2004 S 25\",\"S/2004 S 26\",\"S/2004 S 27\",\"S/2004 S 28\",\"S/2004 S 29\",\"S/2004 S 30\",\"S/2004 S 31\",\"S/2004 S 32\",\"S/2004 S 33\",\"S/2004 S 34\",\"S/2004 S 35\",\"S/2004 S 36\",\"S/2004 S 37\",\"S/2004 S 38\",\"S/2004 S 39\",\"C/2020 F3 (NEOWISE)\",\"S/2003 J 24\"],\"legendgroup\":\"\",\"marker\":{\"color\":\"#F8766D\",\"symbol\":\"circle\"},\"mode\":\"markers\",\"name\":\"\",\"orientation\":\"v\",\"showlegend\":false,\"x\":[1.6200000047683716,0.00570000009611249,0.003000000026077032,1.7899999618530273,1.309999942779541,1.4279999732971191,1.2350000143051147,0.019999999552965164,0.06199999898672104,0.03099999949336052,0.02199999988079071,0.014000000432133675,0.013000000268220901,0.017000000923871994,0.009999999776482582,0.007300000172108412,0.019999999552965164,0.0020000000949949026,0.004999999888241291,0.003100000089034438,0.002899999963119626,0.0,0.0,0.0,0.0,0.0,0.0,0.0,0.0,0.0,0.001500000013038516,0.001500000013038516,0.001500000013038516,0.0012000000569969416,0.0012000000569969416,0.0012000000569969416,0.0,0.0008099999977275729,0.0008099999977275729,0.0008099999977275729,0.0008099999977275729,0.0,0.0,0.0,0.0,0.0012000000569969416,0.0,0.0,0.0,0.0,0.0,0.0,0.0,0.0,0.0,0.0,0.0,0.0,0.0,0.0,0.0,0.0,0.0,0.0,0.0008099999977275729,0.0,0.0,0.0,0.0,0.0,0.0,0.0,0.0,0.0,0.0,0.0,0.0,0.0,0.0,0.0,0.0,0.0,0.0,0.0,0.0,0.0,0.0,0.0,0.0,0.0,0.0,0.0,0.0,0.0,0.0,0.0,0.0,0.0,0.0,0.0,0.0,0.0,0.0,0.0,0.0,0.0,0.0,0.0,0.0,0.0,0.0,0.0,0.0,0.0,0.0,0.0,0.0,0.0,0.0,0.0,0.0,0.0,0.0,0.0,0.0,0.0,0.0,0.0,0.0,0.0,0.0,0.0,0.0,0.0,0.0,0.0,0.0,0.0,0.0,0.0,0.0,0.0,0.0,0.0,0.0,0.0,0.0,0.0,0.0,0.0,0.0,0.0,0.0,0.0,0.7799999713897705,0.07100000232458115,0.009999999776482582,0.013000000268220901,0.023000000044703484,0.029999999329447746,0.03400000184774399,0.07500000298023224,0.009999999776482582,0.0,0.009999999776482582,0.009999999776482582,0.0,0.0,0.0,0.0,0.0,0.0,0.0,0.0,0.0,0.0,0.0,0.0,0.0,0.2800000011920929,0.0,0.0,0.0,0.0,0.0,0.0,0.0,0.8199999928474426,0.0,0.0,0.0,0.0,0.0,0.0,0.0,0.0,0.0,0.0,0.0,8.869999885559082,0.0,0.0,0.0,0.0,0.0,0.0,0.0,0.0,0.6200000047683716,0.0,0.0,0.0,0.0,0.0,0.0,0.0,0.0,0.0,0.0,11.149999618530273,0.0,0.0,0.4009999930858612,0.0,0.0,0.0,0.0,0.0,0.0,0.0,0.0,0.0,0.0,0.0,0.0,0.0,0.5,0.0,3.7100000381469727,3.700000047683716,10.4399995803833,0.0,9.800000190734863,8.869999885559082,0.0,0.0,0.0,0.0,0.0,0.0,0.0,0.0,0.0,0.0,0.0,0.0,0.0,0.0,0.0,0.0,0.0,0.0,0.0,0.0,0.0,0.0,0.0,0.0,0.0,0.0,0.0,0.0,0.0,0.0,0.0,0.0,0.0,0.0,0.0,0.0,0.0,0.0,0.0,0.0,0.0,0.0],\"xaxis\":\"x\",\"y\":[2380.0,11.390000343322754,5.556000232696533,0.0,0.0,0.0,0.0,0.0,0.0,0.0,0.0,0.0,0.0,0.0,0.0,0.0,0.0,0.0,0.0,0.0,0.0,0.0,0.0,0.0,0.0,0.0,0.0,0.0,0.0,0.0,0.0,0.0,0.0,0.0,0.0,0.0,0.0,0.0,0.0,0.0,0.0,0.0,0.0,0.0,0.0,0.0,0.0,0.0,0.0,0.0,0.0,0.0,0.0,0.0,0.0,0.0,0.0,0.0,0.0,0.0,0.0,0.0,0.0,0.0,0.0,0.0,0.0,0.0,0.0,0.0,0.0,0.0,0.0,0.0,0.0,0.0,0.0,0.0,0.0,0.0,0.0,0.0,0.0,0.0,0.0,0.0,0.0,0.0,0.0,0.0,0.0,0.0,0.0,0.0,0.0,0.0,0.0,0.0,0.0,0.0,0.0,0.0,0.0,0.0,0.0,0.0,0.0,0.0,0.0,0.0,0.0,0.0,0.0,0.0,0.0,0.0,0.0,0.0,0.0,0.0,0.0,0.0,0.0,0.0,0.0,0.0,0.0,0.0,0.0,0.0,0.0,0.0,0.0,0.0,0.0,0.0,0.0,0.0,0.0,0.0,0.0,0.0,0.0,0.0,0.0,0.0,0.0,0.0,0.0,0.0,0.0,0.0,0.0,0.0,0.0,0.0,0.0,0.0,0.0,0.0,0.0,0.0,0.0,0.0,0.0,0.0,0.0,0.0,0.0,0.0,0.0,0.0,0.0,0.0,0.0,0.0,0.0,0.0,0.0,510.0,0.0,0.0,0.0,0.0,0.0,0.0,0.0,1380.0,0.0,0.0,0.0,0.0,0.0,0.0,0.0,0.0,0.0,0.0,0.0,21380.0,0.0,0.0,0.0,0.0,0.0,0.0,0.0,0.0,1210.0,0.0,0.0,0.0,0.0,0.0,0.0,0.0,0.0,0.0,0.0,23560.0,0.0,0.0,809.0,0.0,0.0,0.0,0.0,0.0,0.0,0.0,0.0,0.0,0.0,0.0,0.0,0.0,800.0,0.0,5030.0,4250.0,36090.0,0.0,11190.0,10360.0,0.0,0.0,0.0,0.0,0.0,0.0,0.0,0.0,0.0,0.0,0.0,0.0,0.0,0.0,0.0,0.0,0.0,0.0,0.0,0.0,0.0,0.0,0.0,0.0,0.0,0.0,0.0,0.0,0.0,0.0,0.0,0.0,0.0,0.0,0.0,0.0,0.0,0.0,0.0,0.0,0.0,0.0],\"yaxis\":\"y\",\"type\":\"scatter\"}],                        {\"template\":{\"data\":{\"barpolar\":[{\"marker\":{\"line\":{\"color\":\"rgb(237,237,237)\",\"width\":0.5},\"pattern\":{\"fillmode\":\"overlay\",\"size\":10,\"solidity\":0.2}},\"type\":\"barpolar\"}],\"bar\":[{\"error_x\":{\"color\":\"rgb(51,51,51)\"},\"error_y\":{\"color\":\"rgb(51,51,51)\"},\"marker\":{\"line\":{\"color\":\"rgb(237,237,237)\",\"width\":0.5},\"pattern\":{\"fillmode\":\"overlay\",\"size\":10,\"solidity\":0.2}},\"type\":\"bar\"}],\"carpet\":[{\"aaxis\":{\"endlinecolor\":\"rgb(51,51,51)\",\"gridcolor\":\"white\",\"linecolor\":\"white\",\"minorgridcolor\":\"white\",\"startlinecolor\":\"rgb(51,51,51)\"},\"baxis\":{\"endlinecolor\":\"rgb(51,51,51)\",\"gridcolor\":\"white\",\"linecolor\":\"white\",\"minorgridcolor\":\"white\",\"startlinecolor\":\"rgb(51,51,51)\"},\"type\":\"carpet\"}],\"choropleth\":[{\"colorbar\":{\"outlinewidth\":0,\"tickcolor\":\"rgb(237,237,237)\",\"ticklen\":6,\"ticks\":\"inside\"},\"type\":\"choropleth\"}],\"contourcarpet\":[{\"colorbar\":{\"outlinewidth\":0,\"tickcolor\":\"rgb(237,237,237)\",\"ticklen\":6,\"ticks\":\"inside\"},\"type\":\"contourcarpet\"}],\"contour\":[{\"colorbar\":{\"outlinewidth\":0,\"tickcolor\":\"rgb(237,237,237)\",\"ticklen\":6,\"ticks\":\"inside\"},\"colorscale\":[[0,\"rgb(20,44,66)\"],[1,\"rgb(90,179,244)\"]],\"type\":\"contour\"}],\"heatmapgl\":[{\"colorbar\":{\"outlinewidth\":0,\"tickcolor\":\"rgb(237,237,237)\",\"ticklen\":6,\"ticks\":\"inside\"},\"colorscale\":[[0,\"rgb(20,44,66)\"],[1,\"rgb(90,179,244)\"]],\"type\":\"heatmapgl\"}],\"heatmap\":[{\"colorbar\":{\"outlinewidth\":0,\"tickcolor\":\"rgb(237,237,237)\",\"ticklen\":6,\"ticks\":\"inside\"},\"colorscale\":[[0,\"rgb(20,44,66)\"],[1,\"rgb(90,179,244)\"]],\"type\":\"heatmap\"}],\"histogram2dcontour\":[{\"colorbar\":{\"outlinewidth\":0,\"tickcolor\":\"rgb(237,237,237)\",\"ticklen\":6,\"ticks\":\"inside\"},\"colorscale\":[[0,\"rgb(20,44,66)\"],[1,\"rgb(90,179,244)\"]],\"type\":\"histogram2dcontour\"}],\"histogram2d\":[{\"colorbar\":{\"outlinewidth\":0,\"tickcolor\":\"rgb(237,237,237)\",\"ticklen\":6,\"ticks\":\"inside\"},\"colorscale\":[[0,\"rgb(20,44,66)\"],[1,\"rgb(90,179,244)\"]],\"type\":\"histogram2d\"}],\"histogram\":[{\"marker\":{\"pattern\":{\"fillmode\":\"overlay\",\"size\":10,\"solidity\":0.2}},\"type\":\"histogram\"}],\"mesh3d\":[{\"colorbar\":{\"outlinewidth\":0,\"tickcolor\":\"rgb(237,237,237)\",\"ticklen\":6,\"ticks\":\"inside\"},\"type\":\"mesh3d\"}],\"parcoords\":[{\"line\":{\"colorbar\":{\"outlinewidth\":0,\"tickcolor\":\"rgb(237,237,237)\",\"ticklen\":6,\"ticks\":\"inside\"}},\"type\":\"parcoords\"}],\"pie\":[{\"automargin\":true,\"type\":\"pie\"}],\"scatter3d\":[{\"line\":{\"colorbar\":{\"outlinewidth\":0,\"tickcolor\":\"rgb(237,237,237)\",\"ticklen\":6,\"ticks\":\"inside\"}},\"marker\":{\"colorbar\":{\"outlinewidth\":0,\"tickcolor\":\"rgb(237,237,237)\",\"ticklen\":6,\"ticks\":\"inside\"}},\"type\":\"scatter3d\"}],\"scattercarpet\":[{\"marker\":{\"colorbar\":{\"outlinewidth\":0,\"tickcolor\":\"rgb(237,237,237)\",\"ticklen\":6,\"ticks\":\"inside\"}},\"type\":\"scattercarpet\"}],\"scattergeo\":[{\"marker\":{\"colorbar\":{\"outlinewidth\":0,\"tickcolor\":\"rgb(237,237,237)\",\"ticklen\":6,\"ticks\":\"inside\"}},\"type\":\"scattergeo\"}],\"scattergl\":[{\"marker\":{\"colorbar\":{\"outlinewidth\":0,\"tickcolor\":\"rgb(237,237,237)\",\"ticklen\":6,\"ticks\":\"inside\"}},\"type\":\"scattergl\"}],\"scattermapbox\":[{\"marker\":{\"colorbar\":{\"outlinewidth\":0,\"tickcolor\":\"rgb(237,237,237)\",\"ticklen\":6,\"ticks\":\"inside\"}},\"type\":\"scattermapbox\"}],\"scatterpolargl\":[{\"marker\":{\"colorbar\":{\"outlinewidth\":0,\"tickcolor\":\"rgb(237,237,237)\",\"ticklen\":6,\"ticks\":\"inside\"}},\"type\":\"scatterpolargl\"}],\"scatterpolar\":[{\"marker\":{\"colorbar\":{\"outlinewidth\":0,\"tickcolor\":\"rgb(237,237,237)\",\"ticklen\":6,\"ticks\":\"inside\"}},\"type\":\"scatterpolar\"}],\"scatter\":[{\"fillpattern\":{\"fillmode\":\"overlay\",\"size\":10,\"solidity\":0.2},\"type\":\"scatter\"}],\"scatterternary\":[{\"marker\":{\"colorbar\":{\"outlinewidth\":0,\"tickcolor\":\"rgb(237,237,237)\",\"ticklen\":6,\"ticks\":\"inside\"}},\"type\":\"scatterternary\"}],\"surface\":[{\"colorbar\":{\"outlinewidth\":0,\"tickcolor\":\"rgb(237,237,237)\",\"ticklen\":6,\"ticks\":\"inside\"},\"colorscale\":[[0,\"rgb(20,44,66)\"],[1,\"rgb(90,179,244)\"]],\"type\":\"surface\"}],\"table\":[{\"cells\":{\"fill\":{\"color\":\"rgb(237,237,237)\"},\"line\":{\"color\":\"white\"}},\"header\":{\"fill\":{\"color\":\"rgb(217,217,217)\"},\"line\":{\"color\":\"white\"}},\"type\":\"table\"}]},\"layout\":{\"annotationdefaults\":{\"arrowhead\":0,\"arrowwidth\":1},\"autotypenumbers\":\"strict\",\"coloraxis\":{\"colorbar\":{\"outlinewidth\":0,\"tickcolor\":\"rgb(237,237,237)\",\"ticklen\":6,\"ticks\":\"inside\"}},\"colorscale\":{\"sequential\":[[0,\"rgb(20,44,66)\"],[1,\"rgb(90,179,244)\"]],\"sequentialminus\":[[0,\"rgb(20,44,66)\"],[1,\"rgb(90,179,244)\"]]},\"colorway\":[\"#F8766D\",\"#A3A500\",\"#00BF7D\",\"#00B0F6\",\"#E76BF3\"],\"font\":{\"color\":\"rgb(51,51,51)\"},\"geo\":{\"bgcolor\":\"white\",\"lakecolor\":\"white\",\"landcolor\":\"rgb(237,237,237)\",\"showlakes\":true,\"showland\":true,\"subunitcolor\":\"white\"},\"hoverlabel\":{\"align\":\"left\"},\"hovermode\":\"closest\",\"paper_bgcolor\":\"white\",\"plot_bgcolor\":\"rgb(237,237,237)\",\"polar\":{\"angularaxis\":{\"gridcolor\":\"white\",\"linecolor\":\"white\",\"showgrid\":true,\"tickcolor\":\"rgb(51,51,51)\",\"ticks\":\"outside\"},\"bgcolor\":\"rgb(237,237,237)\",\"radialaxis\":{\"gridcolor\":\"white\",\"linecolor\":\"white\",\"showgrid\":true,\"tickcolor\":\"rgb(51,51,51)\",\"ticks\":\"outside\"}},\"scene\":{\"xaxis\":{\"backgroundcolor\":\"rgb(237,237,237)\",\"gridcolor\":\"white\",\"gridwidth\":2,\"linecolor\":\"white\",\"showbackground\":true,\"showgrid\":true,\"tickcolor\":\"rgb(51,51,51)\",\"ticks\":\"outside\",\"zerolinecolor\":\"white\"},\"yaxis\":{\"backgroundcolor\":\"rgb(237,237,237)\",\"gridcolor\":\"white\",\"gridwidth\":2,\"linecolor\":\"white\",\"showbackground\":true,\"showgrid\":true,\"tickcolor\":\"rgb(51,51,51)\",\"ticks\":\"outside\",\"zerolinecolor\":\"white\"},\"zaxis\":{\"backgroundcolor\":\"rgb(237,237,237)\",\"gridcolor\":\"white\",\"gridwidth\":2,\"linecolor\":\"white\",\"showbackground\":true,\"showgrid\":true,\"tickcolor\":\"rgb(51,51,51)\",\"ticks\":\"outside\",\"zerolinecolor\":\"white\"}},\"shapedefaults\":{\"fillcolor\":\"black\",\"line\":{\"width\":0},\"opacity\":0.3},\"ternary\":{\"aaxis\":{\"gridcolor\":\"white\",\"linecolor\":\"white\",\"showgrid\":true,\"tickcolor\":\"rgb(51,51,51)\",\"ticks\":\"outside\"},\"baxis\":{\"gridcolor\":\"white\",\"linecolor\":\"white\",\"showgrid\":true,\"tickcolor\":\"rgb(51,51,51)\",\"ticks\":\"outside\"},\"bgcolor\":\"rgb(237,237,237)\",\"caxis\":{\"gridcolor\":\"white\",\"linecolor\":\"white\",\"showgrid\":true,\"tickcolor\":\"rgb(51,51,51)\",\"ticks\":\"outside\"}},\"xaxis\":{\"automargin\":true,\"gridcolor\":\"white\",\"linecolor\":\"white\",\"showgrid\":true,\"tickcolor\":\"rgb(51,51,51)\",\"ticks\":\"outside\",\"title\":{\"standoff\":15},\"zerolinecolor\":\"white\"},\"yaxis\":{\"automargin\":true,\"gridcolor\":\"white\",\"linecolor\":\"white\",\"showgrid\":true,\"tickcolor\":\"rgb(51,51,51)\",\"ticks\":\"outside\",\"title\":{\"standoff\":15},\"zerolinecolor\":\"white\"}}},\"xaxis\":{\"anchor\":\"y\",\"domain\":[0.0,1.0],\"title\":{\"text\":\"gravity\"}},\"yaxis\":{\"anchor\":\"x\",\"domain\":[0.0,1.0],\"title\":{\"text\":\"escape\"}},\"legend\":{\"tracegroupgap\":0},\"margin\":{\"t\":60}},                        {\"responsive\": true}                    ).then(function(){\n",
              "                            \n",
              "var gd = document.getElementById('06f0b44a-72c8-4273-80f7-5de3973a2b07');\n",
              "var x = new MutationObserver(function (mutations, observer) {{\n",
              "        var display = window.getComputedStyle(gd).display;\n",
              "        if (!display || display === 'none') {{\n",
              "            console.log([gd, 'removed!']);\n",
              "            Plotly.purge(gd);\n",
              "            observer.disconnect();\n",
              "        }}\n",
              "}});\n",
              "\n",
              "// Listen for the removal of the full notebook cells\n",
              "var notebookContainer = gd.closest('#notebook-container');\n",
              "if (notebookContainer) {{\n",
              "    x.observe(notebookContainer, {childList: true});\n",
              "}}\n",
              "\n",
              "// Listen for the clearing of the current output cell\n",
              "var outputEl = gd.closest('.output');\n",
              "if (outputEl) {{\n",
              "    x.observe(outputEl, {childList: true});\n",
              "}}\n",
              "\n",
              "                        })                };                            </script>        </div>\n",
              "</body>\n",
              "</html>"
            ]
          },
          "metadata": {}
        }
      ]
    },
    {
      "cell_type": "markdown",
      "source": [
        "### Model Building"
      ],
      "metadata": {
        "id": "iEixOk49PSkz"
      }
    },
    {
      "cell_type": "code",
      "source": [
        "from pyspark.ml.feature import VectorAssembler, StandardScaler\n",
        "from pyspark.ml.clustering import KMeans\n",
        "from pyspark.ml import Pipeline\n",
        "\n",
        "# set up each processing step with the correct input columns and output\n",
        "assemble=VectorAssembler(inputCols=num_cols, outputCol='features')\n",
        "scale=StandardScaler(inputCol='features',outputCol='standardized')\n",
        "km = KMeans(featuresCol = 'standardized')\n",
        "\n",
        "# assemble the pipeline \n",
        "pipe = Pipeline(stages=[assemble, scale, km])"
      ],
      "metadata": {
        "id": "besPWqA9PTw3"
      },
      "execution_count": 81,
      "outputs": []
    },
    {
      "cell_type": "code",
      "source": [
        "from pyspark.ml.evaluation import ClusteringEvaluator\n",
        "\n",
        "# set up evaluator \n",
        "evaluator = ClusteringEvaluator()\n",
        "\n",
        "# test between k=2 and 10 \n",
        "for k in range(2,10):\n",
        "  # set the KMeans stage of the pipe to hold each value of K and the random seed = 1 and fit that pipe to data  \n",
        "  kmeans = pipe.getStages()[-1].setK(k).setSeed(1)  \n",
        "  model = pipe.fit(df)\n",
        "  \n",
        "  # build a preds dataset of each k value\n",
        "  preds = model.transform(df)\n",
        "\n",
        "  # silhouette score each prediction set and print formatted output \n",
        "  silhouette = evaluator.evaluate(preds)\n",
        "  print(f'Tested: {k} clusters: {silhouette}')\n"
      ],
      "metadata": {
        "colab": {
          "base_uri": "https://localhost:8080/"
        },
        "id": "aMcmho23PYAu",
        "outputId": "98c8284f-333e-49ed-806a-baa477ea4773"
      },
      "execution_count": 86,
      "outputs": [
        {
          "output_type": "stream",
          "name": "stdout",
          "text": [
            "Tested: 2 clusters: 0.985906445228239\n",
            "Tested: 3 clusters: 0.9853183536337629\n",
            "Tested: 4 clusters: 0.9288686572576516\n",
            "Tested: 5 clusters: 0.9063524257467865\n",
            "Tested: 6 clusters: 0.8596777095050427\n",
            "Tested: 7 clusters: 0.8360492437185751\n",
            "Tested: 8 clusters: -0.7386038523165039\n",
            "Tested: 9 clusters: 0.8514223592590151\n"
          ]
        }
      ]
    },
    {
      "cell_type": "markdown",
      "source": [
        "The optimal k value for dense and well-defined clusters here is 2. However, there must be a tradeoff as by clustering into only two clusters the insight drawn from the model is significantly limited. There is a slight reduction in silhouette score as k is increased to 3 however three clusters should give more insight into the underlying data structures. For this reason the value of k=3 is chosen."
      ],
      "metadata": {
        "id": "IABxEEDwPllQ"
      }
    },
    {
      "cell_type": "markdown",
      "source": [
        "### Evaluation"
      ],
      "metadata": {
        "id": "qww0r70kPcqp"
      }
    },
    {
      "cell_type": "code",
      "source": [
        "# set the random seed for the algorithm and the value for k\n",
        "pipe.getStages()[-1].setK(3).setSeed(1)  \n",
        "\n",
        "# fit model and transform the data showing a cut of the data to check output\n",
        "model = pipe.fit(df)\n",
        "clusters = model.transform(df)\n",
        "clusters.show(5)\n",
        "\n",
        "vis_df = clusters.toPandas()\n",
        "\n",
        "# build figure with 3D numeric dimensions and categorical isPlanet and prediction dimensions\n",
        "fig = px.scatter_3d(vis_df, x='gravity', y='escape', z='density', color='prediction', symbol='isPlanet', template='ggplot2', hover_name='englishName')\n",
        "fig.show()"
      ],
      "metadata": {
        "colab": {
          "base_uri": "https://localhost:8080/",
          "height": 738
        },
        "id": "jqiId0DwPdio",
        "outputId": "3e7b8aeb-d82e-440d-e473-70e14ad63a98"
      },
      "execution_count": 83,
      "outputs": [
        {
          "output_type": "stream",
          "name": "stdout",
          "text": [
            "+------+-----------+--------+-------+-------+------+--------------------+--------------------+----------+\n",
            "|    id|englishName|isPlanet|density|gravity|escape|            features|        standardized|prediction|\n",
            "+------+-----------+--------+-------+-------+------+--------------------+--------------------+----------+\n",
            "|  lune|       Moon|   false|  3.344|   1.62|2380.0|[3.34400010108947...|[5.04482713061263...|         0|\n",
            "|phobos|     Phobos|   false|    1.9| 0.0057| 11.39|[1.89999997615814...|[2.86637892886519...|         0|\n",
            "|deimos|     Deimos|   false|   1.75|  0.003| 5.556|[1.75,0.003000000...|[2.64008588866244...|         0|\n",
            "|    io|         Io|   false|   3.53|   1.79|   0.0|[3.52999997138977...|[5.32543034939712...|         0|\n",
            "|europe|     Europa|   false|   3.01|   1.31|   0.0|[3.00999999046325...|[4.54094771411208...|         0|\n",
            "+------+-----------+--------+-------+-------+------+--------------------+--------------------+----------+\n",
            "only showing top 5 rows\n",
            "\n"
          ]
        },
        {
          "output_type": "display_data",
          "data": {
            "text/html": [
              "<html>\n",
              "<head><meta charset=\"utf-8\" /></head>\n",
              "<body>\n",
              "    <div>            <script src=\"https://cdnjs.cloudflare.com/ajax/libs/mathjax/2.7.5/MathJax.js?config=TeX-AMS-MML_SVG\"></script><script type=\"text/javascript\">if (window.MathJax && window.MathJax.Hub && window.MathJax.Hub.Config) {window.MathJax.Hub.Config({SVG: {font: \"STIX-Web\"}});}</script>                <script type=\"text/javascript\">window.PlotlyConfig = {MathJaxConfig: 'local'};</script>\n",
              "        <script src=\"https://cdn.plot.ly/plotly-2.18.2.min.js\"></script>                <div id=\"fc2a59b8-76ba-4919-900c-a5961936079d\" class=\"plotly-graph-div\" style=\"height:525px; width:100%;\"></div>            <script type=\"text/javascript\">                                    window.PLOTLYENV=window.PLOTLYENV || {};                                    if (document.getElementById(\"fc2a59b8-76ba-4919-900c-a5961936079d\")) {                    Plotly.newPlot(                        \"fc2a59b8-76ba-4919-900c-a5961936079d\",                        [{\"hovertemplate\":\"<b>%{hovertext}</b><br><br>isPlanet=False<br>gravity=%{x}<br>escape=%{y}<br>density=%{z}<br>prediction=%{marker.color}<extra></extra>\",\"hovertext\":[\"Moon\",\"Phobos\",\"Deimos\",\"Io\",\"Europa\",\"Ganymede\",\"Callisto\",\"Amalthea\",\"Himalia\",\"Elara\",\"Pasiphae\",\"Sinope\",\"Lysithea\",\"Carme\",\"Ananke\",\"Leda\",\"Thebe\",\"Adrastea\",\"Metis\",\"Callirrhoe\",\"Themisto\",\"Megaclite\",\"Taygete\",\"Chaldene\",\"Harpalyke\",\"Kalyke\",\"Iocaste\",\"Erinome\",\"Isonoe\",\"Praxidike\",\"Autonoe\",\"Thyone\",\"Hermippe\",\"Aitne\",\"Eurydome\",\"Euanthe\",\"Euporie\",\"Orthosie\",\"Sponde\",\"Kale\",\"Pasithee\",\"Hegemone\",\"Mneme\",\"Aoede\",\"Thelxinoe\",\"Arche\",\"Kallichore\",\"Helike\",\"Carpo\",\"Eukelade\",\"Cyllene\",\"Kore\",\"Herse\",\"S/2003 J 2\",\"Eupheme\",\"S/2003 J 4\",\"Eirene\",\"S/2003 J 9\",\"S/2003 J 10\",\"S/2003 J 12\",\"Philophrosyne\",\"S/2003 J 16\",\"S/2003 J 18\",\"S/2003 J 19\",\"S/2003 J 23\",\"Mimas\",\"Enceladus\",\"Tethys\",\"Dione\",\"Rhea\",\"Titan\",\"Hyperion\",\"Iapetus\",\"Phoebe\",\"Janus\",\"Epimetheus\",\"Helene\",\"Telesto\",\"Calypso\",\"Atlas\",\"Prometheus\",\"Pandora\",\"Pan\",\"Ymir\",\"Paaliaq\",\"Tarvos\",\"Ijiraq\",\"Suttungr\",\"Kiviuq\",\"Mundilfari\",\"Albiorix\",\"Skathi\",\"Erriapus\",\"Siarnaq\",\"Thrymr\",\"Narvi\",\"Methone\",\"Pallene\",\"Polydeuces\",\"Daphnis\",\"Aegir\",\"Bebhionn\",\"Bergelmir\",\"Bestla\",\"Farbauti\",\"Fenrir\",\"Fornjot\",\"Hati\",\"Hyrrokkin\",\"Kari\",\"Loge\",\"Skoll\",\"Surtur\",\"Anthe\",\"Jarnsaxa\",\"Greip\",\"Tarqeq\",\"Aegaeon\",\"S/2004 S 7\",\"S/2004 S 12\",\"S/2004 S 13\",\"S/2004 S 17\",\"S/2006 S 1\",\"S/2006 S 3\",\"S/2007 S 2\",\"S/2007 S 3\",\"S/2009 S 1\",\"Ariel\",\"Umbriel\",\"Titania\",\"Oberon\",\"Miranda\",\"Cordelia\",\"Ophelia\",\"Bianca\",\"Cressida\",\"Desdemona\",\"Juliet\",\"Portia\",\"Rosalind\",\"Belinda\",\"Puck\",\"Caliban\",\"Sycorax\",\"Prospero\",\"Setebos\",\"Stephano\",\"Trinculo\",\"Francisco\",\"Margaret\",\"Ferdinand\",\"Perdita\",\"Mab\",\"Cupid\",\"Triton\",\"Nereid\",\"Naiad\",\"Thalassa\",\"Despina\",\"Galatea\",\"Larissa\",\"Proteus\",\"Halimede\",\"Psamathe\",\"Sao\",\"Laomedeia\",\"Neso\",\"Charon\",\"Nix\",\"Hydra\",\"Namaka\",\"Hi\\u02bbiaka\",\"Dysnomia\",\"Dia\",\"S/2004 S 3\",\"S/2004 S 4\",\"S/2004 S 6\",\"S/2010 J 1\",\"S/2010 J 2\",\"1 Ceres\",\"6 Hebe\",\"47171 Lempo\",\"The Little Prince\",\"762 Pulcova\",\"4179 Toutatis\",\"50000 Quaoar\",\"2867 \\u0160teins\",\"136199 Eris\",\"5 Astraea\",\"5145 Pholus\",\"4769 Castalia\",\"Remus\",\"624 Hektor\",\"216 Kleopatra\",\"3753 Cruithne\",\"3 Juno\",\"10 Hygiea\",\"21 Lutetia\",\"253 Mathilde\",\"7 Iris\",\"433 Eros\",\"Vanth\",\"90377 Sedna\",\"10199 Chariklo\",\"87 Sylvia\",\"(243) Ida I Dactyl\",\"90482 Orcus\",\"Pluto\",\"5335 Damocles\",\"Romulus\",\"Alexhelios\",\"Cleoselene\",\"8 Flora\",\"2060 Chiron\",\"5261 Eureka\",\"588 Achilles\",\"Weywot\",\"28978 Ixion\",\"Shoemaker-Levy 9\",\"9 Metis\",\"136108 Haumea\",\"7066 Nessus\",\"25143 Itokawa\",\"10370 Hylonome\",\"45 Eugenia\",\"(308933) 2006 SQ372\",\"2 Pallas\",\"8405 Asbolus\",\"20000 Varuna\",\"4 Vesta\",\"243 Ida\",\"Comet Hyakutake\",\"951 Gaspra\",\"15760 Albion\",\"136472 Makemake\",\"Halley's Comet\",\"Sun\",\"Kerberos\",\"S/2011 J 1\",\"S/2011 J 2\",\"Styx\",\"Hippocamp\",\"S/2015 (136472) 1\",\"S/2017 J 1\",\"S/2016 J 1\",\"Valetudo\",\"S/2017 J 2\",\"S/2017 J 3\",\"Pandia\",\"S/2017 J 5\",\"S/2017 J 6\",\"S/2017 J 7\",\"S/2017 J 8\",\"S/2017 J 9\",\"Ersa\",\"Arrokoth\",\"101955 Bennu\",\"S/2004 S 22\",\"S/2004 S 21\",\"S/2004 S 20\",\"S/2004 S 23\",\"S/2004 S 24\",\"S/2004 S 25\",\"S/2004 S 26\",\"S/2004 S 27\",\"S/2004 S 28\",\"S/2004 S 29\",\"S/2004 S 30\",\"S/2004 S 31\",\"S/2004 S 32\",\"S/2004 S 33\",\"S/2004 S 34\",\"S/2004 S 35\",\"S/2004 S 36\",\"S/2004 S 37\",\"S/2004 S 38\",\"S/2004 S 39\",\"C/2020 F3 (NEOWISE)\",\"S/2003 J 24\"],\"legendgroup\":\"False\",\"marker\":{\"color\":[0,0,0,0,0,0,0,0,0,0,0,0,0,0,0,0,0,0,0,0,0,0,0,0,0,0,0,0,0,0,0,0,0,0,0,0,0,0,0,0,0,0,0,0,0,0,0,0,0,0,0,0,0,0,0,0,0,0,0,0,0,0,0,0,0,0,0,0,0,0,0,0,0,0,0,0,0,0,0,0,0,0,0,0,0,0,0,0,0,0,0,0,0,0,0,0,0,0,0,0,0,0,0,0,0,0,0,0,0,0,0,0,0,0,0,0,0,0,0,0,0,0,0,0,0,0,0,0,0,0,0,0,0,0,0,0,0,0,0,0,0,0,0,0,0,0,0,0,0,0,0,0,0,0,0,0,0,0,0,0,0,0,0,0,0,0,0,0,0,0,0,0,0,0,0,0,0,0,0,0,0,0,0,0,0,0,0,0,0,0,0,0,0,0,0,0,0,0,0,0,0,0,0,0,0,0,0,0,0,0,0,0,0,0,0,0,0,0,0,0,0,0,0,0,0,0,0,0,0,0,0,0,0,0,0,0,0,0,0,0,0,0,0,0,0,0,0,0,0,0,0,0,0,0,0,0,0,0,0,0,0,0,0,0,0,0,0,0,0,0,0,0,0,0,0,0,0,0,0],\"coloraxis\":\"coloraxis\",\"symbol\":\"circle\"},\"mode\":\"markers\",\"name\":\"False\",\"scene\":\"scene\",\"showlegend\":true,\"x\":[1.6200000047683716,0.00570000009611249,0.003000000026077032,1.7899999618530273,1.309999942779541,1.4279999732971191,1.2350000143051147,0.019999999552965164,0.06199999898672104,0.03099999949336052,0.02199999988079071,0.014000000432133675,0.013000000268220901,0.017000000923871994,0.009999999776482582,0.007300000172108412,0.019999999552965164,0.0020000000949949026,0.004999999888241291,0.003100000089034438,0.002899999963119626,0.0,0.0,0.0,0.0,0.0,0.0,0.0,0.0,0.0,0.001500000013038516,0.001500000013038516,0.001500000013038516,0.0012000000569969416,0.0012000000569969416,0.0012000000569969416,0.0,0.0008099999977275729,0.0008099999977275729,0.0008099999977275729,0.0008099999977275729,0.0,0.0,0.0,0.0,0.0012000000569969416,0.0,0.0,0.0,0.0,0.0,0.0,0.0,0.0,0.0,0.0,0.0,0.0,0.0,0.0,0.0,0.0,0.0,0.0,0.0008099999977275729,0.0,0.0,0.0,0.0,0.0,0.0,0.0,0.0,0.0,0.0,0.0,0.0,0.0,0.0,0.0,0.0,0.0,0.0,0.0,0.0,0.0,0.0,0.0,0.0,0.0,0.0,0.0,0.0,0.0,0.0,0.0,0.0,0.0,0.0,0.0,0.0,0.0,0.0,0.0,0.0,0.0,0.0,0.0,0.0,0.0,0.0,0.0,0.0,0.0,0.0,0.0,0.0,0.0,0.0,0.0,0.0,0.0,0.0,0.0,0.0,0.0,0.0,0.0,0.0,0.0,0.0,0.0,0.0,0.0,0.0,0.0,0.0,0.0,0.0,0.0,0.0,0.0,0.0,0.0,0.0,0.0,0.0,0.0,0.0,0.0,0.0,0.0,0.0,0.0,0.7799999713897705,0.07100000232458115,0.009999999776482582,0.013000000268220901,0.023000000044703484,0.029999999329447746,0.03400000184774399,0.07500000298023224,0.009999999776482582,0.0,0.009999999776482582,0.009999999776482582,0.0,0.0,0.0,0.0,0.0,0.0,0.0,0.0,0.0,0.0,0.0,0.0,0.0,0.2800000011920929,0.0,0.0,0.0,0.0,0.0,0.0,0.0,0.8199999928474426,0.0,0.0,0.0,0.0,0.0,0.0,0.0,0.0,0.0,0.0,0.0,0.0,0.0,0.0,0.0,0.0,0.0,0.0,0.0,0.6200000047683716,0.0,0.0,0.0,0.0,0.0,0.0,0.0,0.0,0.0,0.0,0.0,0.0,0.4009999930858612,0.0,0.0,0.0,0.0,0.0,0.0,0.0,0.0,0.0,0.0,0.0,0.0,0.0,0.5,0.0,0.0,0.0,0.0,0.0,0.0,0.0,0.0,0.0,0.0,0.0,0.0,0.0,0.0,0.0,0.0,0.0,0.0,0.0,0.0,0.0,0.0,0.0,0.0,0.0,0.0,0.0,0.0,0.0,0.0,0.0,0.0,0.0,0.0,0.0,0.0,0.0,0.0,0.0,0.0,0.0,0.0,0.0,0.0],\"y\":[2380.0,11.390000343322754,5.556000232696533,0.0,0.0,0.0,0.0,0.0,0.0,0.0,0.0,0.0,0.0,0.0,0.0,0.0,0.0,0.0,0.0,0.0,0.0,0.0,0.0,0.0,0.0,0.0,0.0,0.0,0.0,0.0,0.0,0.0,0.0,0.0,0.0,0.0,0.0,0.0,0.0,0.0,0.0,0.0,0.0,0.0,0.0,0.0,0.0,0.0,0.0,0.0,0.0,0.0,0.0,0.0,0.0,0.0,0.0,0.0,0.0,0.0,0.0,0.0,0.0,0.0,0.0,0.0,0.0,0.0,0.0,0.0,0.0,0.0,0.0,0.0,0.0,0.0,0.0,0.0,0.0,0.0,0.0,0.0,0.0,0.0,0.0,0.0,0.0,0.0,0.0,0.0,0.0,0.0,0.0,0.0,0.0,0.0,0.0,0.0,0.0,0.0,0.0,0.0,0.0,0.0,0.0,0.0,0.0,0.0,0.0,0.0,0.0,0.0,0.0,0.0,0.0,0.0,0.0,0.0,0.0,0.0,0.0,0.0,0.0,0.0,0.0,0.0,0.0,0.0,0.0,0.0,0.0,0.0,0.0,0.0,0.0,0.0,0.0,0.0,0.0,0.0,0.0,0.0,0.0,0.0,0.0,0.0,0.0,0.0,0.0,0.0,0.0,0.0,0.0,0.0,0.0,0.0,0.0,0.0,0.0,0.0,0.0,0.0,0.0,0.0,0.0,0.0,0.0,0.0,0.0,0.0,0.0,0.0,0.0,0.0,0.0,0.0,0.0,0.0,0.0,510.0,0.0,0.0,0.0,0.0,0.0,0.0,0.0,1380.0,0.0,0.0,0.0,0.0,0.0,0.0,0.0,0.0,0.0,0.0,0.0,0.0,0.0,0.0,0.0,0.0,0.0,0.0,0.0,1210.0,0.0,0.0,0.0,0.0,0.0,0.0,0.0,0.0,0.0,0.0,0.0,0.0,809.0,0.0,0.0,0.0,0.0,0.0,0.0,0.0,0.0,0.0,0.0,0.0,0.0,0.0,800.0,0.0,0.0,0.0,0.0,0.0,0.0,0.0,0.0,0.0,0.0,0.0,0.0,0.0,0.0,0.0,0.0,0.0,0.0,0.0,0.0,0.0,0.0,0.0,0.0,0.0,0.0,0.0,0.0,0.0,0.0,0.0,0.0,0.0,0.0,0.0,0.0,0.0,0.0,0.0,0.0,0.0,0.0,0.0,0.0],\"z\":[3.3440001010894775,1.899999976158142,1.75,3.5299999713897705,3.009999990463257,1.940000057220459,1.8300000429153442,3.0999999046325684,1.0,1.0,1.0,1.0,1.0,1.0,1.0,1.0,1.0,1.0,1.0,1.0,1.0,1.0,1.0,1.0,1.0,1.0,1.0,1.0,1.0,1.0,1.0,1.0,1.0,1.0,1.0,1.0,1.0,1.0,1.0,1.0,1.0,1.0,1.0,1.0,1.0,1.0,1.0,1.0,1.0,1.0,1.0,1.0,1.0,1.0,1.0,1.0,1.0,1.0,1.0,1.0,1.0,1.0,1.0,1.0,1.0,1.149999976158142,1.6100000143051147,0.9850000143051147,1.4800000190734863,1.2400000095367432,1.8799999952316284,0.550000011920929,1.090000033378601,1.6399999856948853,0.6299999952316284,0.6399999856948853,1.2999999523162842,1.0,1.0,0.5,0.47999998927116394,0.49000000953674316,0.41999998688697815,1.0,1.0,1.0,1.0,1.0,1.0,1.0,1.0,1.0,1.0,1.0,1.0,1.0,1.0,1.0,1.0,0.3400000035762787,1.0,1.0,1.0,1.0,1.0,1.0,1.0,1.0,1.0,1.0,1.0,1.0,1.0,1.0,1.0,1.0,1.0,1.0,1.0,1.0,1.0,1.0,1.0,1.0,1.0,1.0,1.0,1.590000033378601,1.4600000381469727,1.659999966621399,1.559999942779541,1.2000000476837158,1.0,1.0,1.0,1.0,1.0,1.0,1.0,1.0,1.0,1.0,1.0,1.0,1.0,1.0,1.0,1.0,1.0,1.0,1.0,1.0,1.0,1.0,2.049999952316284,1.0,1.0,1.0,1.0,1.0,1.0,1.0,1.0,1.0,1.0,1.0,1.0,1.0,1.0,1.0,1.0,1.0,1.0,1.0,1.0,1.0,1.0,1.0,1.0,2.1610000133514404,1.0,1.0,1.0,1.0,1.0,1.0,1.0,2.5199999809265137,1.0,1.0,1.0,1.0,1.0,1.0,1.0,1.0,1.0,1.0,1.0,1.0,1.0,1.0,1.0,1.0,1.0,1.0,1.0,1.8899999856948853,1.0,1.0,1.0,1.0,1.0,1.0,1.0,1.0,1.0,1.0,1.0,1.0,2.5999999046325684,1.0,1.0,1.0,1.0,1.0,1.0,1.0,1.0,1.0,1.0,1.0,1.0,1.0,1.399999976158142,1.0,1.0,1.0,1.0,1.0,1.0,1.0,1.0,1.0,1.0,1.0,1.0,1.0,1.0,1.0,1.0,1.0,1.0,1.0,1.0,1.0,1.0,0.0,0.0,0.0,0.0,0.0,0.0,0.0,0.0,0.0,0.0,0.0,0.0,0.0,0.0,0.0,0.0,0.0,0.0,0.0,0.0,0.0,0.0],\"type\":\"scatter3d\"},{\"hovertemplate\":\"<b>%{hovertext}</b><br><br>isPlanet=True<br>gravity=%{x}<br>escape=%{y}<br>density=%{z}<br>prediction=%{marker.color}<extra></extra>\",\"hovertext\":[\"Uranus\",\"Neptune\",\"Mars\",\"Mercury\",\"Saturn\",\"Earth\",\"Venus\"],\"legendgroup\":\"True\",\"marker\":{\"color\":[1,1,2,2,1,2,2],\"coloraxis\":\"coloraxis\",\"symbol\":\"diamond\"},\"mode\":\"markers\",\"name\":\"True\",\"scene\":\"scene\",\"showlegend\":true,\"x\":[8.869999885559082,11.149999618530273,3.7100000381469727,3.700000047683716,10.4399995803833,9.800000190734863,8.869999885559082],\"y\":[21380.0,23560.0,5030.0,4250.0,36090.0,11190.0,10360.0],\"z\":[1.2699999809265137,1.6380000114440918,3.9340999126434326,5.429100036621094,0.6870999932289124,5.513599872589111,5.243000030517578],\"type\":\"scatter3d\"}],                        {\"template\":{\"data\":{\"barpolar\":[{\"marker\":{\"line\":{\"color\":\"rgb(237,237,237)\",\"width\":0.5},\"pattern\":{\"fillmode\":\"overlay\",\"size\":10,\"solidity\":0.2}},\"type\":\"barpolar\"}],\"bar\":[{\"error_x\":{\"color\":\"rgb(51,51,51)\"},\"error_y\":{\"color\":\"rgb(51,51,51)\"},\"marker\":{\"line\":{\"color\":\"rgb(237,237,237)\",\"width\":0.5},\"pattern\":{\"fillmode\":\"overlay\",\"size\":10,\"solidity\":0.2}},\"type\":\"bar\"}],\"carpet\":[{\"aaxis\":{\"endlinecolor\":\"rgb(51,51,51)\",\"gridcolor\":\"white\",\"linecolor\":\"white\",\"minorgridcolor\":\"white\",\"startlinecolor\":\"rgb(51,51,51)\"},\"baxis\":{\"endlinecolor\":\"rgb(51,51,51)\",\"gridcolor\":\"white\",\"linecolor\":\"white\",\"minorgridcolor\":\"white\",\"startlinecolor\":\"rgb(51,51,51)\"},\"type\":\"carpet\"}],\"choropleth\":[{\"colorbar\":{\"outlinewidth\":0,\"tickcolor\":\"rgb(237,237,237)\",\"ticklen\":6,\"ticks\":\"inside\"},\"type\":\"choropleth\"}],\"contourcarpet\":[{\"colorbar\":{\"outlinewidth\":0,\"tickcolor\":\"rgb(237,237,237)\",\"ticklen\":6,\"ticks\":\"inside\"},\"type\":\"contourcarpet\"}],\"contour\":[{\"colorbar\":{\"outlinewidth\":0,\"tickcolor\":\"rgb(237,237,237)\",\"ticklen\":6,\"ticks\":\"inside\"},\"colorscale\":[[0,\"rgb(20,44,66)\"],[1,\"rgb(90,179,244)\"]],\"type\":\"contour\"}],\"heatmapgl\":[{\"colorbar\":{\"outlinewidth\":0,\"tickcolor\":\"rgb(237,237,237)\",\"ticklen\":6,\"ticks\":\"inside\"},\"colorscale\":[[0,\"rgb(20,44,66)\"],[1,\"rgb(90,179,244)\"]],\"type\":\"heatmapgl\"}],\"heatmap\":[{\"colorbar\":{\"outlinewidth\":0,\"tickcolor\":\"rgb(237,237,237)\",\"ticklen\":6,\"ticks\":\"inside\"},\"colorscale\":[[0,\"rgb(20,44,66)\"],[1,\"rgb(90,179,244)\"]],\"type\":\"heatmap\"}],\"histogram2dcontour\":[{\"colorbar\":{\"outlinewidth\":0,\"tickcolor\":\"rgb(237,237,237)\",\"ticklen\":6,\"ticks\":\"inside\"},\"colorscale\":[[0,\"rgb(20,44,66)\"],[1,\"rgb(90,179,244)\"]],\"type\":\"histogram2dcontour\"}],\"histogram2d\":[{\"colorbar\":{\"outlinewidth\":0,\"tickcolor\":\"rgb(237,237,237)\",\"ticklen\":6,\"ticks\":\"inside\"},\"colorscale\":[[0,\"rgb(20,44,66)\"],[1,\"rgb(90,179,244)\"]],\"type\":\"histogram2d\"}],\"histogram\":[{\"marker\":{\"pattern\":{\"fillmode\":\"overlay\",\"size\":10,\"solidity\":0.2}},\"type\":\"histogram\"}],\"mesh3d\":[{\"colorbar\":{\"outlinewidth\":0,\"tickcolor\":\"rgb(237,237,237)\",\"ticklen\":6,\"ticks\":\"inside\"},\"type\":\"mesh3d\"}],\"parcoords\":[{\"line\":{\"colorbar\":{\"outlinewidth\":0,\"tickcolor\":\"rgb(237,237,237)\",\"ticklen\":6,\"ticks\":\"inside\"}},\"type\":\"parcoords\"}],\"pie\":[{\"automargin\":true,\"type\":\"pie\"}],\"scatter3d\":[{\"line\":{\"colorbar\":{\"outlinewidth\":0,\"tickcolor\":\"rgb(237,237,237)\",\"ticklen\":6,\"ticks\":\"inside\"}},\"marker\":{\"colorbar\":{\"outlinewidth\":0,\"tickcolor\":\"rgb(237,237,237)\",\"ticklen\":6,\"ticks\":\"inside\"}},\"type\":\"scatter3d\"}],\"scattercarpet\":[{\"marker\":{\"colorbar\":{\"outlinewidth\":0,\"tickcolor\":\"rgb(237,237,237)\",\"ticklen\":6,\"ticks\":\"inside\"}},\"type\":\"scattercarpet\"}],\"scattergeo\":[{\"marker\":{\"colorbar\":{\"outlinewidth\":0,\"tickcolor\":\"rgb(237,237,237)\",\"ticklen\":6,\"ticks\":\"inside\"}},\"type\":\"scattergeo\"}],\"scattergl\":[{\"marker\":{\"colorbar\":{\"outlinewidth\":0,\"tickcolor\":\"rgb(237,237,237)\",\"ticklen\":6,\"ticks\":\"inside\"}},\"type\":\"scattergl\"}],\"scattermapbox\":[{\"marker\":{\"colorbar\":{\"outlinewidth\":0,\"tickcolor\":\"rgb(237,237,237)\",\"ticklen\":6,\"ticks\":\"inside\"}},\"type\":\"scattermapbox\"}],\"scatterpolargl\":[{\"marker\":{\"colorbar\":{\"outlinewidth\":0,\"tickcolor\":\"rgb(237,237,237)\",\"ticklen\":6,\"ticks\":\"inside\"}},\"type\":\"scatterpolargl\"}],\"scatterpolar\":[{\"marker\":{\"colorbar\":{\"outlinewidth\":0,\"tickcolor\":\"rgb(237,237,237)\",\"ticklen\":6,\"ticks\":\"inside\"}},\"type\":\"scatterpolar\"}],\"scatter\":[{\"fillpattern\":{\"fillmode\":\"overlay\",\"size\":10,\"solidity\":0.2},\"type\":\"scatter\"}],\"scatterternary\":[{\"marker\":{\"colorbar\":{\"outlinewidth\":0,\"tickcolor\":\"rgb(237,237,237)\",\"ticklen\":6,\"ticks\":\"inside\"}},\"type\":\"scatterternary\"}],\"surface\":[{\"colorbar\":{\"outlinewidth\":0,\"tickcolor\":\"rgb(237,237,237)\",\"ticklen\":6,\"ticks\":\"inside\"},\"colorscale\":[[0,\"rgb(20,44,66)\"],[1,\"rgb(90,179,244)\"]],\"type\":\"surface\"}],\"table\":[{\"cells\":{\"fill\":{\"color\":\"rgb(237,237,237)\"},\"line\":{\"color\":\"white\"}},\"header\":{\"fill\":{\"color\":\"rgb(217,217,217)\"},\"line\":{\"color\":\"white\"}},\"type\":\"table\"}]},\"layout\":{\"annotationdefaults\":{\"arrowhead\":0,\"arrowwidth\":1},\"autotypenumbers\":\"strict\",\"coloraxis\":{\"colorbar\":{\"outlinewidth\":0,\"tickcolor\":\"rgb(237,237,237)\",\"ticklen\":6,\"ticks\":\"inside\"}},\"colorscale\":{\"sequential\":[[0,\"rgb(20,44,66)\"],[1,\"rgb(90,179,244)\"]],\"sequentialminus\":[[0,\"rgb(20,44,66)\"],[1,\"rgb(90,179,244)\"]]},\"colorway\":[\"#F8766D\",\"#A3A500\",\"#00BF7D\",\"#00B0F6\",\"#E76BF3\"],\"font\":{\"color\":\"rgb(51,51,51)\"},\"geo\":{\"bgcolor\":\"white\",\"lakecolor\":\"white\",\"landcolor\":\"rgb(237,237,237)\",\"showlakes\":true,\"showland\":true,\"subunitcolor\":\"white\"},\"hoverlabel\":{\"align\":\"left\"},\"hovermode\":\"closest\",\"paper_bgcolor\":\"white\",\"plot_bgcolor\":\"rgb(237,237,237)\",\"polar\":{\"angularaxis\":{\"gridcolor\":\"white\",\"linecolor\":\"white\",\"showgrid\":true,\"tickcolor\":\"rgb(51,51,51)\",\"ticks\":\"outside\"},\"bgcolor\":\"rgb(237,237,237)\",\"radialaxis\":{\"gridcolor\":\"white\",\"linecolor\":\"white\",\"showgrid\":true,\"tickcolor\":\"rgb(51,51,51)\",\"ticks\":\"outside\"}},\"scene\":{\"xaxis\":{\"backgroundcolor\":\"rgb(237,237,237)\",\"gridcolor\":\"white\",\"gridwidth\":2,\"linecolor\":\"white\",\"showbackground\":true,\"showgrid\":true,\"tickcolor\":\"rgb(51,51,51)\",\"ticks\":\"outside\",\"zerolinecolor\":\"white\"},\"yaxis\":{\"backgroundcolor\":\"rgb(237,237,237)\",\"gridcolor\":\"white\",\"gridwidth\":2,\"linecolor\":\"white\",\"showbackground\":true,\"showgrid\":true,\"tickcolor\":\"rgb(51,51,51)\",\"ticks\":\"outside\",\"zerolinecolor\":\"white\"},\"zaxis\":{\"backgroundcolor\":\"rgb(237,237,237)\",\"gridcolor\":\"white\",\"gridwidth\":2,\"linecolor\":\"white\",\"showbackground\":true,\"showgrid\":true,\"tickcolor\":\"rgb(51,51,51)\",\"ticks\":\"outside\",\"zerolinecolor\":\"white\"}},\"shapedefaults\":{\"fillcolor\":\"black\",\"line\":{\"width\":0},\"opacity\":0.3},\"ternary\":{\"aaxis\":{\"gridcolor\":\"white\",\"linecolor\":\"white\",\"showgrid\":true,\"tickcolor\":\"rgb(51,51,51)\",\"ticks\":\"outside\"},\"baxis\":{\"gridcolor\":\"white\",\"linecolor\":\"white\",\"showgrid\":true,\"tickcolor\":\"rgb(51,51,51)\",\"ticks\":\"outside\"},\"bgcolor\":\"rgb(237,237,237)\",\"caxis\":{\"gridcolor\":\"white\",\"linecolor\":\"white\",\"showgrid\":true,\"tickcolor\":\"rgb(51,51,51)\",\"ticks\":\"outside\"}},\"xaxis\":{\"automargin\":true,\"gridcolor\":\"white\",\"linecolor\":\"white\",\"showgrid\":true,\"tickcolor\":\"rgb(51,51,51)\",\"ticks\":\"outside\",\"title\":{\"standoff\":15},\"zerolinecolor\":\"white\"},\"yaxis\":{\"automargin\":true,\"gridcolor\":\"white\",\"linecolor\":\"white\",\"showgrid\":true,\"tickcolor\":\"rgb(51,51,51)\",\"ticks\":\"outside\",\"title\":{\"standoff\":15},\"zerolinecolor\":\"white\"}}},\"scene\":{\"domain\":{\"x\":[0.0,1.0],\"y\":[0.0,1.0]},\"xaxis\":{\"title\":{\"text\":\"gravity\"}},\"yaxis\":{\"title\":{\"text\":\"escape\"}},\"zaxis\":{\"title\":{\"text\":\"density\"}}},\"coloraxis\":{\"colorbar\":{\"title\":{\"text\":\"prediction\"}},\"colorscale\":[[0.0,\"rgb(20,44,66)\"],[1.0,\"rgb(90,179,244)\"]]},\"legend\":{\"title\":{\"text\":\"isPlanet\"},\"tracegroupgap\":0},\"margin\":{\"t\":60}},                        {\"responsive\": true}                    ).then(function(){\n",
              "                            \n",
              "var gd = document.getElementById('fc2a59b8-76ba-4919-900c-a5961936079d');\n",
              "var x = new MutationObserver(function (mutations, observer) {{\n",
              "        var display = window.getComputedStyle(gd).display;\n",
              "        if (!display || display === 'none') {{\n",
              "            console.log([gd, 'removed!']);\n",
              "            Plotly.purge(gd);\n",
              "            observer.disconnect();\n",
              "        }}\n",
              "}});\n",
              "\n",
              "// Listen for the removal of the full notebook cells\n",
              "var notebookContainer = gd.closest('#notebook-container');\n",
              "if (notebookContainer) {{\n",
              "    x.observe(notebookContainer, {childList: true});\n",
              "}}\n",
              "\n",
              "// Listen for the clearing of the current output cell\n",
              "var outputEl = gd.closest('.output');\n",
              "if (outputEl) {{\n",
              "    x.observe(outputEl, {childList: true});\n",
              "}}\n",
              "\n",
              "                        })                };                            </script>        </div>\n",
              "</body>\n",
              "</html>"
            ]
          },
          "metadata": {}
        }
      ]
    },
    {
      "cell_type": "markdown",
      "source": [
        "The chart shows how well-defined the clusters are, with the bodies being split into large planetary bodies (Saturn and Neptune for example), smaller planetary bodies (including Earth and Mars) and the non-planets (like the Moon and Mars satellite Phobos). This model could now be used in practice to generate an unsupervised classification as to what kind of body something is once we know those measurable features like density, escape velocity and gravity. If other data has been used to cluster a different set of clusters could be produced perhaps to further classify those other bodies."
      ],
      "metadata": {
        "id": "n1yIQRDMQFCy"
      }
    }
  ]
}